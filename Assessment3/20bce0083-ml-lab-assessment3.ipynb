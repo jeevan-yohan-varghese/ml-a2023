{
 "cells": [
  {
   "cell_type": "markdown",
   "id": "2e1be5a9",
   "metadata": {},
   "source": [
    "## Machine Learning LAB - Assessment 3\n",
    "#### 20BCE0083- Jeevan Yohan Varghese"
   ]
  },
  {
   "cell_type": "markdown",
   "id": "c77fb004",
   "metadata": {},
   "source": [
    "### 1. K nearest neighbour\n",
    "<b>Write a program to implement k-Nearest Neighbour algorithm to classify the iris\n",
    "data set.Print both correct and wrong predictions.</b>"
   ]
  },
  {
   "cell_type": "code",
   "execution_count": 21,
   "id": "05368956",
   "metadata": {},
   "outputs": [],
   "source": [
    "import numpy as np\n",
    "from sklearn import datasets\n",
    "from sklearn.model_selection import train_test_split\n",
    "from sklearn.metrics import accuracy_score"
   ]
  },
  {
   "cell_type": "code",
   "execution_count": 22,
   "id": "626afe0d",
   "metadata": {},
   "outputs": [],
   "source": [
    "iris = datasets.load_iris()\n",
    "X = iris.data\n",
    "y = iris.target\n",
    "X_train, X_test, y_train, y_test = train_test_split(X, y, test_size=0.2)"
   ]
  },
  {
   "cell_type": "code",
   "execution_count": 26,
   "id": "9e955ad9",
   "metadata": {},
   "outputs": [],
   "source": [
    "def predict(X_train, y_train, x, k):\n",
    "    #predicting class of a sample\n",
    "    dist = np.sqrt(np.sum((X_train - x)**2, axis=1))\n",
    "    nearest_indices = np.argsort(dist)[:k]\n",
    "    nearest_labels = y_train[nearest_indices]\n",
    "    return np.argmax(np.bincount(nearest_labels))\n",
    "\n",
    "def predict_multiple(X_train, y_train, X_test, k):\n",
    "    #utitlity function to predict multiple samples\n",
    "    y_pred = np.array([predict(X_train, y_train, x, k) for x in X_test])\n",
    "    return y_pred"
   ]
  },
  {
   "cell_type": "code",
   "execution_count": 27,
   "id": "2f20ec43",
   "metadata": {},
   "outputs": [
    {
     "name": "stdout",
     "output_type": "stream",
     "text": [
      "Accuracy: 0.9\n"
     ]
    }
   ],
   "source": [
    "# k - no of neighbours\n",
    "k = 10\n",
    "\n",
    "y_pred = predict_multiple(X_train, y_train, X_test, k)\n",
    "\n",
    "# accuracy\n",
    "accuracy = accuracy_score(y_test, y_pred)\n",
    "print(\"Accuracy:\", accuracy)"
   ]
  },
  {
   "cell_type": "code",
   "execution_count": 28,
   "id": "eb8087f2",
   "metadata": {},
   "outputs": [
    {
     "name": "stdout",
     "output_type": "stream",
     "text": [
      "Sample 0 :  correct prediction as class 1\n",
      "Sample 1 :  correct prediction as class 1\n",
      "Sample 2 :  correct prediction as class 2\n",
      "Sample 3 :  correct prediction as class 1\n",
      "Sample 4 :  correct prediction as class 1\n",
      "Sample 5 :  correct prediction as class 0\n",
      "Sample 6 :  correct prediction as class 0\n",
      "Sample 7 :  correct prediction as class 0\n",
      "Sample 8 :  correct prediction as class 1\n",
      "Sample 9 incorrect prediction as class 1 actual class :  2\n",
      "Sample 10 :  correct prediction as class 0\n",
      "Sample 11 :  correct prediction as class 2\n",
      "Sample 12 :  correct prediction as class 1\n",
      "Sample 13 :  correct prediction as class 2\n",
      "Sample 14 :  correct prediction as class 2\n",
      "Sample 15 :  correct prediction as class 1\n",
      "Sample 16 :  correct prediction as class 2\n",
      "Sample 17 incorrect prediction as class 1 actual class :  2\n",
      "Sample 18 :  correct prediction as class 1\n",
      "Sample 19 :  correct prediction as class 0\n",
      "Sample 20 :  correct prediction as class 0\n",
      "Sample 21 :  correct prediction as class 2\n",
      "Sample 22 :  correct prediction as class 0\n",
      "Sample 23 :  correct prediction as class 1\n",
      "Sample 24 :  correct prediction as class 1\n",
      "Sample 25 :  correct prediction as class 0\n",
      "Sample 26 :  correct prediction as class 1\n",
      "Sample 27 :  correct prediction as class 1\n",
      "Sample 28 :  correct prediction as class 0\n",
      "Sample 29 incorrect prediction as class 2 actual class :  1\n"
     ]
    }
   ],
   "source": [
    "#predicting all\n",
    "for i in range(len(y_pred)):\n",
    "    if y_pred[i] == y_test[i]:\n",
    "        print(\"Sample\", i, \":  correct prediction as class\", y_pred[i])\n",
    "    else:\n",
    "        print(\"Sample\", i, \"incorrect prediction as class\", y_pred[i], \"actual class : \", y_test[i])"
   ]
  },
  {
   "cell_type": "markdown",
   "id": "2d582831",
   "metadata": {},
   "source": [
    "### 2. SVM\n",
    "<b>Train SVM classifier using sklearn digits dataset( i.e from sklearn datasets import\n",
    "load_digits)</b>"
   ]
  },
  {
   "cell_type": "code",
   "execution_count": 11,
   "id": "121aa9eb",
   "metadata": {},
   "outputs": [],
   "source": [
    "from sklearn import svm\n",
    "from sklearn.datasets import load_digits\n",
    "from sklearn.model_selection import train_test_split\n",
    "from sklearn.metrics import accuracy_score\n"
   ]
  },
  {
   "cell_type": "code",
   "execution_count": 12,
   "id": "8763354a",
   "metadata": {},
   "outputs": [],
   "source": [
    "digits_data = load_digits()\n",
    "\n",
    "X_train, X_test, y_train, y_test =train_test_split(digits_data.data, digits_data.target, test_size=0.2,random_state=0)"
   ]
  },
  {
   "cell_type": "code",
   "execution_count": 13,
   "id": "9f243c16",
   "metadata": {},
   "outputs": [
    {
     "name": "stdout",
     "output_type": "stream",
     "text": [
      "RBF kernel accuracy: 0.9916666666666667\n"
     ]
    }
   ],
   "source": [
    "rbf = svm.SVC(kernel='rbf')\n",
    "rbf.fit(X_train, y_train)\n",
    "y_pred_rbf = rbf.predict(X_test)\n",
    "rbf_accuracy = accuracy_score(y_test, y_pred_rbf)\n",
    "print(\"RBF kernel accuracy:\", rbf_accuracy)"
   ]
  },
  {
   "cell_type": "code",
   "execution_count": 14,
   "id": "3df60230",
   "metadata": {},
   "outputs": [
    {
     "name": "stdout",
     "output_type": "stream",
     "text": [
      "Linear kernel accuracy: 0.9777777777777777\n"
     ]
    }
   ],
   "source": [
    "lr = svm.SVC(kernel='linear')\n",
    "lr.fit(X_train, y_train)\n",
    "y_pred_lr = lr.predict(X_test)\n",
    "linear_accuracy = accuracy_score(y_test, y_pred_lr)\n",
    "print(\"Linear kernel accuracy:\", linear_accuracy)"
   ]
  },
  {
   "cell_type": "code",
   "execution_count": 15,
   "id": "7897902b",
   "metadata": {},
   "outputs": [
    {
     "name": "stdout",
     "output_type": "stream",
     "text": [
      "Tuned RBF kernel accuracy: 0.9944444444444445\n"
     ]
    }
   ],
   "source": [
    "rbf = svm.SVC(kernel='rbf',C=0.5,gamma=0.001)\n",
    "rbf.fit(X_train, y_train)\n",
    "y_pred_rbf = rbf.predict(X_test)\n",
    "rbf_accuracy = accuracy_score(y_test, y_pred_rbf)\n",
    "print(\"Tuned RBF kernel accuracy:\", rbf_accuracy)"
   ]
  },
  {
   "cell_type": "code",
   "execution_count": 16,
   "id": "296c7303",
   "metadata": {},
   "outputs": [
    {
     "name": "stdout",
     "output_type": "stream",
     "text": [
      "Tuned Linear kernel accuracy: 0.9777777777777777\n"
     ]
    }
   ],
   "source": [
    "lr = svm.SVC(kernel='linear',C=1,gamma=0.001)\n",
    "lr.fit(X_train, y_train)\n",
    "y_pred_lr = lr.predict(X_test)\n",
    "linear_accuracy = accuracy_score(y_test, y_pred_lr)\n",
    "print(\"Tuned Linear kernel accuracy:\", linear_accuracy)"
   ]
  },
  {
   "cell_type": "markdown",
   "id": "28a2af07",
   "metadata": {},
   "source": [
    "### 3. ANN\n",
    "<b>Build an Artificial Neural Network by implementing the Back propagation algorithm\n",
    "and test the same using appropriate data sets.</b>"
   ]
  },
  {
   "cell_type": "code",
   "execution_count": 17,
   "id": "0f270356",
   "metadata": {},
   "outputs": [],
   "source": [
    "import numpy as np\n",
    "X = np.array(([2, 9], [1, 5], [3, 6]), dtype=float)\n",
    "y = np.array(([92], [86], [89]), dtype=float)\n",
    "X = X/np.amax(X,axis=0)\n",
    "y = y/100\n",
    "def sigmoid (x):\n",
    " return 1/(1 + np.exp(-x))\n",
    "def derivatives_sigmoid(x):\n",
    " return x * (1 - x)\n"
   ]
  },
  {
   "cell_type": "code",
   "execution_count": 18,
   "id": "0472739e",
   "metadata": {},
   "outputs": [],
   "source": [
    "epoch=5\n",
    "lr=0.1\n",
    "inputlayer_neurons = 2\n",
    "hiddenlayer_neurons = 3\n",
    "output_neurons = 1\n",
    "wh=np.random.uniform(size=(inputlayer_neurons,hiddenlayer_neurons))\n",
    "bh=np.random.uniform(size=(1,hiddenlayer_neurons))\n",
    "wout=np.random.uniform(size=(hiddenlayer_neurons,output_neurons))\n",
    "bout=np.random.uniform(size=(1,output_neurons))\n"
   ]
  },
  {
   "cell_type": "code",
   "execution_count": 19,
   "id": "dea0accc",
   "metadata": {},
   "outputs": [
    {
     "name": "stdout",
     "output_type": "stream",
     "text": [
      "Epoch- 1 Starting\n",
      "Input: \n",
      "[[0.66666667 1.        ]\n",
      " [0.33333333 0.55555556]\n",
      " [1.         0.66666667]]\n",
      "Actual: \n",
      "[[0.92]\n",
      " [0.86]\n",
      " [0.89]]\n",
      "Predicted Output: \n",
      " [[0.84845988]\n",
      " [0.83935393]\n",
      " [0.84840029]]\n",
      "Epoch- 1 Ending\n",
      "\n",
      "Epoch- 2 Starting\n",
      "Input: \n",
      "[[0.66666667 1.        ]\n",
      " [0.33333333 0.55555556]\n",
      " [1.         0.66666667]]\n",
      "Actual: \n",
      "[[0.92]\n",
      " [0.86]\n",
      " [0.89]]\n",
      "Predicted Output: \n",
      " [[0.84891601]\n",
      " [0.83978841]\n",
      " [0.84884992]]\n",
      "Epoch- 2 Ending\n",
      "\n",
      "Epoch- 3 Starting\n",
      "Input: \n",
      "[[0.66666667 1.        ]\n",
      " [0.33333333 0.55555556]\n",
      " [1.         0.66666667]]\n",
      "Actual: \n",
      "[[0.92]\n",
      " [0.86]\n",
      " [0.89]]\n",
      "Predicted Output: \n",
      " [[0.84936544]\n",
      " [0.84021661]\n",
      " [0.84929297]]\n",
      "Epoch- 3 Ending\n",
      "\n",
      "Epoch- 4 Starting\n",
      "Input: \n",
      "[[0.66666667 1.        ]\n",
      " [0.33333333 0.55555556]\n",
      " [1.         0.66666667]]\n",
      "Actual: \n",
      "[[0.92]\n",
      " [0.86]\n",
      " [0.89]]\n",
      "Predicted Output: \n",
      " [[0.84980831]\n",
      " [0.84063868]\n",
      " [0.84972956]]\n",
      "Epoch- 4 Ending\n",
      "\n",
      "Epoch- 5 Starting\n",
      "Input: \n",
      "[[0.66666667 1.        ]\n",
      " [0.33333333 0.55555556]\n",
      " [1.         0.66666667]]\n",
      "Actual: \n",
      "[[0.92]\n",
      " [0.86]\n",
      " [0.89]]\n",
      "Predicted Output: \n",
      " [[0.85024476]\n",
      " [0.84105475]\n",
      " [0.85015984]]\n",
      "Epoch- 5 Ending\n",
      "\n"
     ]
    }
   ],
   "source": [
    "for i in range(epoch):\n",
    "\n",
    " hinp1=np.dot(X,wh)\n",
    " hinp=hinp1 + bh\n",
    " hlayer_act = sigmoid(hinp)\n",
    " outinp1=np.dot(hlayer_act,wout)\n",
    " outinp= outinp1+bout\n",
    " output = sigmoid(outinp)\n",
    "\n",
    " EO = y-output\n",
    " outgrad = derivatives_sigmoid(output)\n",
    " d_output = EO * outgrad\n",
    " EH = d_output.dot(wout.T)\n",
    " hiddengrad = derivatives_sigmoid(hlayer_act)\n",
    " d_hiddenlayer = EH * hiddengrad\n",
    "\n",
    " wout += hlayer_act.T.dot(d_output) *lr\n",
    " wh += X.T.dot(d_hiddenlayer) *lr\n",
    "\n",
    " print (\"Epoch-\", i+1, \"Starting\")\n",
    " print(\"Input: \\n\" + str(X))\n",
    " print(\"Actual: \\n\" + str(y))\n",
    " print(\"Predicted Output: \\n\" ,output)\n",
    " print (\"Epoch-\", i+1, \"Ending\\n\")"
   ]
  },
  {
   "cell_type": "code",
   "execution_count": 20,
   "id": "5c44d709",
   "metadata": {},
   "outputs": [
    {
     "name": "stdout",
     "output_type": "stream",
     "text": [
      "Input: \n",
      "[[0.66666667 1.        ]\n",
      " [0.33333333 0.55555556]\n",
      " [1.         0.66666667]]\n",
      "Actual Output: \n",
      "[[0.92]\n",
      " [0.86]\n",
      " [0.89]]\n",
      "Predicted Output: \n",
      " [[0.85024476]\n",
      " [0.84105475]\n",
      " [0.85015984]]\n"
     ]
    }
   ],
   "source": [
    "print(\"Input: \\n\" + str(X))\n",
    "print(\"Actual Output: \\n\" + str(y))\n",
    "print(\"Predicted Output: \\n\" ,output)"
   ]
  },
  {
   "cell_type": "markdown",
   "id": "7d22e206",
   "metadata": {},
   "source": [
    "### 4. Bagging Ensembles including Bagged Decision Trees, Random Forest and Extra Trees"
   ]
  },
  {
   "cell_type": "code",
   "execution_count": 30,
   "id": "2c9dc0f0",
   "metadata": {},
   "outputs": [],
   "source": [
    "import pandas as pd\n",
    "import numpy as np\n",
    "import matplotlib.pyplot as plt\n",
    "import seaborn as sns\n",
    "from sklearn.impute import SimpleImputer\n",
    "from sklearn.model_selection import train_test_split\n",
    "from sklearn.metrics import confusion_matrix, accuracy_score, classification_report\n",
    "%matplotlib inline\n",
    "sns.set_style(\"whitegrid\")\n",
    "plt.style.use(\"fivethirtyeight\")"
   ]
  },
  {
   "cell_type": "code",
   "execution_count": 31,
   "id": "7a7cdb9b",
   "metadata": {},
   "outputs": [
    {
     "data": {
      "text/html": [
       "<div>\n",
       "<style scoped>\n",
       "    .dataframe tbody tr th:only-of-type {\n",
       "        vertical-align: middle;\n",
       "    }\n",
       "\n",
       "    .dataframe tbody tr th {\n",
       "        vertical-align: top;\n",
       "    }\n",
       "\n",
       "    .dataframe thead th {\n",
       "        text-align: right;\n",
       "    }\n",
       "</style>\n",
       "<table border=\"1\" class=\"dataframe\">\n",
       "  <thead>\n",
       "    <tr style=\"text-align: right;\">\n",
       "      <th></th>\n",
       "      <th>Pregnancies</th>\n",
       "      <th>Glucose</th>\n",
       "      <th>BloodPressure</th>\n",
       "      <th>SkinThickness</th>\n",
       "      <th>Insulin</th>\n",
       "      <th>BMI</th>\n",
       "      <th>DiabetesPedigreeFunction</th>\n",
       "      <th>Age</th>\n",
       "      <th>Outcome</th>\n",
       "    </tr>\n",
       "  </thead>\n",
       "  <tbody>\n",
       "    <tr>\n",
       "      <th>0</th>\n",
       "      <td>6</td>\n",
       "      <td>148</td>\n",
       "      <td>72</td>\n",
       "      <td>35</td>\n",
       "      <td>0</td>\n",
       "      <td>33.6</td>\n",
       "      <td>0.627</td>\n",
       "      <td>50</td>\n",
       "      <td>1</td>\n",
       "    </tr>\n",
       "    <tr>\n",
       "      <th>1</th>\n",
       "      <td>1</td>\n",
       "      <td>85</td>\n",
       "      <td>66</td>\n",
       "      <td>29</td>\n",
       "      <td>0</td>\n",
       "      <td>26.6</td>\n",
       "      <td>0.351</td>\n",
       "      <td>31</td>\n",
       "      <td>0</td>\n",
       "    </tr>\n",
       "    <tr>\n",
       "      <th>2</th>\n",
       "      <td>8</td>\n",
       "      <td>183</td>\n",
       "      <td>64</td>\n",
       "      <td>0</td>\n",
       "      <td>0</td>\n",
       "      <td>23.3</td>\n",
       "      <td>0.672</td>\n",
       "      <td>32</td>\n",
       "      <td>1</td>\n",
       "    </tr>\n",
       "    <tr>\n",
       "      <th>3</th>\n",
       "      <td>1</td>\n",
       "      <td>89</td>\n",
       "      <td>66</td>\n",
       "      <td>23</td>\n",
       "      <td>94</td>\n",
       "      <td>28.1</td>\n",
       "      <td>0.167</td>\n",
       "      <td>21</td>\n",
       "      <td>0</td>\n",
       "    </tr>\n",
       "    <tr>\n",
       "      <th>4</th>\n",
       "      <td>0</td>\n",
       "      <td>137</td>\n",
       "      <td>40</td>\n",
       "      <td>35</td>\n",
       "      <td>168</td>\n",
       "      <td>43.1</td>\n",
       "      <td>2.288</td>\n",
       "      <td>33</td>\n",
       "      <td>1</td>\n",
       "    </tr>\n",
       "  </tbody>\n",
       "</table>\n",
       "</div>"
      ],
      "text/plain": [
       "   Pregnancies  Glucose  BloodPressure  SkinThickness  Insulin   BMI  \\\n",
       "0            6      148             72             35        0  33.6   \n",
       "1            1       85             66             29        0  26.6   \n",
       "2            8      183             64              0        0  23.3   \n",
       "3            1       89             66             23       94  28.1   \n",
       "4            0      137             40             35      168  43.1   \n",
       "\n",
       "   DiabetesPedigreeFunction  Age  Outcome  \n",
       "0                     0.627   50        1  \n",
       "1                     0.351   31        0  \n",
       "2                     0.672   32        1  \n",
       "3                     0.167   21        0  \n",
       "4                     2.288   33        1  "
      ]
     },
     "execution_count": 31,
     "metadata": {},
     "output_type": "execute_result"
    }
   ],
   "source": [
    "df = pd.read_csv(\"diabetes.csv\")\n",
    "df.head()"
   ]
  },
  {
   "cell_type": "code",
   "execution_count": 32,
   "id": "b9aa65f4",
   "metadata": {},
   "outputs": [
    {
     "data": {
      "text/html": [
       "<div>\n",
       "<style scoped>\n",
       "    .dataframe tbody tr th:only-of-type {\n",
       "        vertical-align: middle;\n",
       "    }\n",
       "\n",
       "    .dataframe tbody tr th {\n",
       "        vertical-align: top;\n",
       "    }\n",
       "\n",
       "    .dataframe thead th {\n",
       "        text-align: right;\n",
       "    }\n",
       "</style>\n",
       "<table border=\"1\" class=\"dataframe\">\n",
       "  <thead>\n",
       "    <tr style=\"text-align: right;\">\n",
       "      <th></th>\n",
       "      <th>Pregnancies</th>\n",
       "      <th>Glucose</th>\n",
       "      <th>BloodPressure</th>\n",
       "      <th>SkinThickness</th>\n",
       "      <th>Insulin</th>\n",
       "      <th>BMI</th>\n",
       "      <th>DiabetesPedigreeFunction</th>\n",
       "      <th>Age</th>\n",
       "      <th>Outcome</th>\n",
       "    </tr>\n",
       "  </thead>\n",
       "  <tbody>\n",
       "    <tr>\n",
       "      <th>count</th>\n",
       "      <td>768.00</td>\n",
       "      <td>768.00</td>\n",
       "      <td>768.00</td>\n",
       "      <td>768.00</td>\n",
       "      <td>768.00</td>\n",
       "      <td>768.00</td>\n",
       "      <td>768.00</td>\n",
       "      <td>768.00</td>\n",
       "      <td>768.00</td>\n",
       "    </tr>\n",
       "    <tr>\n",
       "      <th>mean</th>\n",
       "      <td>3.85</td>\n",
       "      <td>120.89</td>\n",
       "      <td>69.11</td>\n",
       "      <td>20.54</td>\n",
       "      <td>79.80</td>\n",
       "      <td>31.99</td>\n",
       "      <td>0.47</td>\n",
       "      <td>33.24</td>\n",
       "      <td>0.35</td>\n",
       "    </tr>\n",
       "    <tr>\n",
       "      <th>std</th>\n",
       "      <td>3.37</td>\n",
       "      <td>31.97</td>\n",
       "      <td>19.36</td>\n",
       "      <td>15.95</td>\n",
       "      <td>115.24</td>\n",
       "      <td>7.88</td>\n",
       "      <td>0.33</td>\n",
       "      <td>11.76</td>\n",
       "      <td>0.48</td>\n",
       "    </tr>\n",
       "    <tr>\n",
       "      <th>min</th>\n",
       "      <td>0.00</td>\n",
       "      <td>0.00</td>\n",
       "      <td>0.00</td>\n",
       "      <td>0.00</td>\n",
       "      <td>0.00</td>\n",
       "      <td>0.00</td>\n",
       "      <td>0.08</td>\n",
       "      <td>21.00</td>\n",
       "      <td>0.00</td>\n",
       "    </tr>\n",
       "    <tr>\n",
       "      <th>25%</th>\n",
       "      <td>1.00</td>\n",
       "      <td>99.00</td>\n",
       "      <td>62.00</td>\n",
       "      <td>0.00</td>\n",
       "      <td>0.00</td>\n",
       "      <td>27.30</td>\n",
       "      <td>0.24</td>\n",
       "      <td>24.00</td>\n",
       "      <td>0.00</td>\n",
       "    </tr>\n",
       "    <tr>\n",
       "      <th>50%</th>\n",
       "      <td>3.00</td>\n",
       "      <td>117.00</td>\n",
       "      <td>72.00</td>\n",
       "      <td>23.00</td>\n",
       "      <td>30.50</td>\n",
       "      <td>32.00</td>\n",
       "      <td>0.37</td>\n",
       "      <td>29.00</td>\n",
       "      <td>0.00</td>\n",
       "    </tr>\n",
       "    <tr>\n",
       "      <th>75%</th>\n",
       "      <td>6.00</td>\n",
       "      <td>140.25</td>\n",
       "      <td>80.00</td>\n",
       "      <td>32.00</td>\n",
       "      <td>127.25</td>\n",
       "      <td>36.60</td>\n",
       "      <td>0.63</td>\n",
       "      <td>41.00</td>\n",
       "      <td>1.00</td>\n",
       "    </tr>\n",
       "    <tr>\n",
       "      <th>max</th>\n",
       "      <td>17.00</td>\n",
       "      <td>199.00</td>\n",
       "      <td>122.00</td>\n",
       "      <td>99.00</td>\n",
       "      <td>846.00</td>\n",
       "      <td>67.10</td>\n",
       "      <td>2.42</td>\n",
       "      <td>81.00</td>\n",
       "      <td>1.00</td>\n",
       "    </tr>\n",
       "  </tbody>\n",
       "</table>\n",
       "</div>"
      ],
      "text/plain": [
       "       Pregnancies  Glucose  BloodPressure  SkinThickness  Insulin    BMI  \\\n",
       "count       768.00   768.00         768.00         768.00   768.00 768.00   \n",
       "mean          3.85   120.89          69.11          20.54    79.80  31.99   \n",
       "std           3.37    31.97          19.36          15.95   115.24   7.88   \n",
       "min           0.00     0.00           0.00           0.00     0.00   0.00   \n",
       "25%           1.00    99.00          62.00           0.00     0.00  27.30   \n",
       "50%           3.00   117.00          72.00          23.00    30.50  32.00   \n",
       "75%           6.00   140.25          80.00          32.00   127.25  36.60   \n",
       "max          17.00   199.00         122.00          99.00   846.00  67.10   \n",
       "\n",
       "       DiabetesPedigreeFunction    Age  Outcome  \n",
       "count                    768.00 768.00   768.00  \n",
       "mean                       0.47  33.24     0.35  \n",
       "std                        0.33  11.76     0.48  \n",
       "min                        0.08  21.00     0.00  \n",
       "25%                        0.24  24.00     0.00  \n",
       "50%                        0.37  29.00     0.00  \n",
       "75%                        0.63  41.00     1.00  \n",
       "max                        2.42  81.00     1.00  "
      ]
     },
     "execution_count": 32,
     "metadata": {},
     "output_type": "execute_result"
    }
   ],
   "source": [
    "pd.set_option('display.float_format', '{:.2f}'.format)\n",
    "df.describe()"
   ]
  },
  {
   "cell_type": "code",
   "execution_count": 34,
   "id": "12d2573b",
   "metadata": {},
   "outputs": [
    {
     "data": {
      "text/plain": [
       "Index(['Pregnancies', 'Glucose', 'BloodPressure', 'SkinThickness', 'Insulin',\n",
       "       'BMI', 'DiabetesPedigreeFunction', 'Age', 'Outcome'],\n",
       "      dtype='object')"
      ]
     },
     "execution_count": 34,
     "metadata": {},
     "output_type": "execute_result"
    }
   ],
   "source": [
    "categorical_val = []\n",
    "continous_val = []\n",
    "for column in df.columns:\n",
    "    if len(df[column].unique()) <= 10:\n",
    "        categorical_val.append(column)\n",
    "    else:\n",
    "        continous_val.append(column)\n",
    "df.columns"
   ]
  },
  {
   "cell_type": "code",
   "execution_count": 35,
   "id": "5efae2de",
   "metadata": {},
   "outputs": [
    {
     "name": "stdout",
     "output_type": "stream",
     "text": [
      "Pregnancies ==> Missing zeros : 111\n",
      "Glucose ==> Missing zeros : 5\n",
      "BloodPressure ==> Missing zeros : 35\n",
      "SkinThickness ==> Missing zeros : 227\n",
      "Insulin ==> Missing zeros : 374\n",
      "BMI ==> Missing zeros : 11\n",
      "DiabetesPedigreeFunction ==> Missing zeros : 0\n",
      "Age ==> Missing zeros : 0\n"
     ]
    }
   ],
   "source": [
    "feature_columns = [\n",
    "    'Pregnancies', 'Glucose', 'BloodPressure', 'SkinThickness', \n",
    "    'Insulin', 'BMI', 'DiabetesPedigreeFunction', 'Age'\n",
    "]\n",
    "\n",
    "for column in feature_columns:\n",
    "    print(f\"{column} ==> Missing zeros : {len(df.loc[df[column] == 0])}\")"
   ]
  },
  {
   "cell_type": "code",
   "execution_count": 36,
   "id": "986f0015",
   "metadata": {},
   "outputs": [
    {
     "name": "stdout",
     "output_type": "stream",
     "text": [
      "Pregnancies ==> Missing zeros : 0\n",
      "Glucose ==> Missing zeros : 0\n",
      "BloodPressure ==> Missing zeros : 0\n",
      "SkinThickness ==> Missing zeros : 0\n",
      "Insulin ==> Missing zeros : 0\n",
      "BMI ==> Missing zeros : 0\n",
      "DiabetesPedigreeFunction ==> Missing zeros : 0\n",
      "Age ==> Missing zeros : 0\n"
     ]
    }
   ],
   "source": [
    "fill_values = SimpleImputer(missing_values=0, strategy=\"mean\", copy=False)\n",
    "df[feature_columns] = fill_values.fit_transform(df[feature_columns])\n",
    "\n",
    "for column in feature_columns:\n",
    "    print(f\"{column} ==> Missing zeros : {len(df.loc[df[column] == 0])}\")"
   ]
  },
  {
   "cell_type": "code",
   "execution_count": 37,
   "id": "208e88f7",
   "metadata": {},
   "outputs": [],
   "source": [
    "X = df[feature_columns]\n",
    "y = df.Outcome\n",
    "\n",
    "X_train, X_test, y_train, y_test = train_test_split(X, y, test_size=0.3, random_state=42)"
   ]
  },
  {
   "cell_type": "code",
   "execution_count": 44,
   "id": "8e3a77b2",
   "metadata": {},
   "outputs": [],
   "source": [
    "def evaluate(model, X_train, X_test, y_train, y_test):\n",
    "    y_test_pred = model.predict(X_test)\n",
    "    y_train_pred = model.predict(X_train)\n",
    "\n",
    "    print(\"Training Results: \\n\")\n",
    "    clf_report = pd.DataFrame(classification_report(y_train, y_train_pred, output_dict=True))\n",
    "    print(f\"Confusion Matrix:\\n{confusion_matrix(y_train, y_train_pred)}\")\n",
    "    print(f\"Accuracy:\\n{accuracy_score(y_train, y_train_pred):.4f}\")\n",
    "    print(f\"Classification Report:\\n{clf_report}\")\n",
    "\n",
    "    print(\"Testing results: \\n\")\n",
    "    clf_report = pd.DataFrame(classification_report(y_test, y_test_pred, output_dict=True))\n",
    "    print(f\"Confusion Matrix:\\n{confusion_matrix(y_test, y_test_pred)}\")\n",
    "    print(f\"Accuracy:\\n{accuracy_score(y_test, y_test_pred):.4f}\")\n",
    "    print(f\"Classification Report:\\n{clf_report}\")"
   ]
  },
  {
   "cell_type": "code",
   "execution_count": 39,
   "id": "5d9ff134",
   "metadata": {},
   "outputs": [],
   "source": [
    "from sklearn.ensemble import BaggingClassifier\n",
    "from sklearn.tree import DecisionTreeClassifier"
   ]
  },
  {
   "cell_type": "code",
   "execution_count": 45,
   "id": "c6009205",
   "metadata": {},
   "outputs": [
    {
     "name": "stdout",
     "output_type": "stream",
     "text": [
      "Training Results: \n",
      "\n",
      "Confusion Matrix:\n",
      "[[349   0]\n",
      " [  0 188]]\n",
      "Accuracy:\n",
      "1.0000\n",
      "Classification Report:\n",
      "               0      1  accuracy  macro avg  weighted avg\n",
      "precision   1.00   1.00      1.00       1.00          1.00\n",
      "recall      1.00   1.00      1.00       1.00          1.00\n",
      "f1-score    1.00   1.00      1.00       1.00          1.00\n",
      "support   349.00 188.00      1.00     537.00        537.00\n",
      "Testing results: \n",
      "\n",
      "Confusion Matrix:\n",
      "[[119  32]\n",
      " [ 24  56]]\n",
      "Accuracy:\n",
      "0.7576\n",
      "Classification Report:\n",
      "               0     1  accuracy  macro avg  weighted avg\n",
      "precision   0.83  0.64      0.76       0.73          0.76\n",
      "recall      0.79  0.70      0.76       0.74          0.76\n",
      "f1-score    0.81  0.67      0.76       0.74          0.76\n",
      "support   151.00 80.00      0.76     231.00        231.00\n"
     ]
    }
   ],
   "source": [
    "tree = DecisionTreeClassifier()\n",
    "bagging_clf = BaggingClassifier(estimator=tree, n_estimators=1500, random_state=42)\n",
    "bagging_clf.fit(X_train, y_train)\n",
    "\n",
    "evaluate(bagging_clf, X_train, X_test, y_train, y_test)"
   ]
  },
  {
   "cell_type": "code",
   "execution_count": 46,
   "id": "75342a8d",
   "metadata": {},
   "outputs": [
    {
     "name": "stdout",
     "output_type": "stream",
     "text": [
      "Training Results: \n",
      "\n",
      "Confusion Matrix:\n",
      "[[349   0]\n",
      " [  0 188]]\n",
      "Accuracy:\n",
      "1.0000\n",
      "Classification Report:\n",
      "               0      1  accuracy  macro avg  weighted avg\n",
      "precision   1.00   1.00      1.00       1.00          1.00\n",
      "recall      1.00   1.00      1.00       1.00          1.00\n",
      "f1-score    1.00   1.00      1.00       1.00          1.00\n",
      "support   349.00 188.00      1.00     537.00        537.00\n",
      "Testing results: \n",
      "\n",
      "Confusion Matrix:\n",
      "[[123  28]\n",
      " [ 29  51]]\n",
      "Accuracy:\n",
      "0.7532\n",
      "Classification Report:\n",
      "               0     1  accuracy  macro avg  weighted avg\n",
      "precision   0.81  0.65      0.75       0.73          0.75\n",
      "recall      0.81  0.64      0.75       0.73          0.75\n",
      "f1-score    0.81  0.64      0.75       0.73          0.75\n",
      "support   151.00 80.00      0.75     231.00        231.00\n"
     ]
    }
   ],
   "source": [
    "#Random Forest\n",
    "from sklearn.ensemble import RandomForestClassifier\n",
    "rf_clf = RandomForestClassifier(random_state=42, n_estimators=1000)\n",
    "rf_clf.fit(X_train, y_train)\n",
    "evaluate(rf_clf, X_train, X_test, y_train, y_test)"
   ]
  },
  {
   "cell_type": "code",
   "execution_count": 47,
   "id": "378d8c18",
   "metadata": {},
   "outputs": [
    {
     "name": "stdout",
     "output_type": "stream",
     "text": [
      "Training Results: \n",
      "\n",
      "Confusion Matrix:\n",
      "[[349   0]\n",
      " [  0 188]]\n",
      "Accuracy:\n",
      "1.0000\n",
      "Classification Report:\n",
      "               0      1  accuracy  macro avg  weighted avg\n",
      "precision   1.00   1.00      1.00       1.00          1.00\n",
      "recall      1.00   1.00      1.00       1.00          1.00\n",
      "f1-score    1.00   1.00      1.00       1.00          1.00\n",
      "support   349.00 188.00      1.00     537.00        537.00\n",
      "Testing results: \n",
      "\n",
      "Confusion Matrix:\n",
      "[[124  27]\n",
      " [ 25  55]]\n",
      "Accuracy:\n",
      "0.7749\n",
      "Classification Report:\n",
      "               0     1  accuracy  macro avg  weighted avg\n",
      "precision   0.83  0.67      0.77       0.75          0.78\n",
      "recall      0.82  0.69      0.77       0.75          0.77\n",
      "f1-score    0.83  0.68      0.77       0.75          0.78\n",
      "support   151.00 80.00      0.77     231.00        231.00\n"
     ]
    }
   ],
   "source": [
    "#Extra Trees\n",
    "from sklearn.ensemble import ExtraTreesClassifier\n",
    "ex_tree_clf = ExtraTreesClassifier(n_estimators=1000, max_features=7, random_state=42)\n",
    "ex_tree_clf.fit(X_train, y_train)\n",
    "evaluate(ex_tree_clf, X_train, X_test, y_train, y_test)"
   ]
  },
  {
   "cell_type": "markdown",
   "id": "487a9eee",
   "metadata": {},
   "source": [
    "### 5. Boosting Ensembles including AdaBoost and Stochastic Gradient Boosting"
   ]
  },
  {
   "cell_type": "code",
   "execution_count": 48,
   "id": "783e1dbe",
   "metadata": {},
   "outputs": [
    {
     "name": "stdout",
     "output_type": "stream",
     "text": [
      "Training Results: \n",
      "\n",
      "Confusion Matrix:\n",
      "[[310  39]\n",
      " [ 51 137]]\n",
      "Accuracy:\n",
      "0.8324\n",
      "Classification Report:\n",
      "               0      1  accuracy  macro avg  weighted avg\n",
      "precision   0.86   0.78      0.83       0.82          0.83\n",
      "recall      0.89   0.73      0.83       0.81          0.83\n",
      "f1-score    0.87   0.75      0.83       0.81          0.83\n",
      "support   349.00 188.00      0.83     537.00        537.00\n",
      "Testing results: \n",
      "\n",
      "Confusion Matrix:\n",
      "[[123  28]\n",
      " [ 27  53]]\n",
      "Accuracy:\n",
      "0.7619\n",
      "Classification Report:\n",
      "               0     1  accuracy  macro avg  weighted avg\n",
      "precision   0.82  0.65      0.76       0.74          0.76\n",
      "recall      0.81  0.66      0.76       0.74          0.76\n",
      "f1-score    0.82  0.66      0.76       0.74          0.76\n",
      "support   151.00 80.00      0.76     231.00        231.00\n"
     ]
    }
   ],
   "source": [
    "from sklearn.ensemble import AdaBoostClassifier\n",
    "ada_boost_clf = AdaBoostClassifier(n_estimators=30)\n",
    "ada_boost_clf.fit(X_train, y_train)\n",
    "evaluate(ada_boost_clf, X_train, X_test, y_train, y_test)"
   ]
  },
  {
   "cell_type": "code",
   "execution_count": 49,
   "id": "7d1df0a0",
   "metadata": {},
   "outputs": [
    {
     "name": "stdout",
     "output_type": "stream",
     "text": [
      "Training Results: \n",
      "\n",
      "Confusion Matrix:\n",
      "[[342   7]\n",
      " [ 19 169]]\n",
      "Accuracy:\n",
      "0.9516\n",
      "Classification Report:\n",
      "               0      1  accuracy  macro avg  weighted avg\n",
      "precision   0.95   0.96      0.95       0.95          0.95\n",
      "recall      0.98   0.90      0.95       0.94          0.95\n",
      "f1-score    0.96   0.93      0.95       0.95          0.95\n",
      "support   349.00 188.00      0.95     537.00        537.00\n",
      "Testing results: \n",
      "\n",
      "Confusion Matrix:\n",
      "[[116  35]\n",
      " [ 26  54]]\n",
      "Accuracy:\n",
      "0.7359\n",
      "Classification Report:\n",
      "               0     1  accuracy  macro avg  weighted avg\n",
      "precision   0.82  0.61      0.74       0.71          0.74\n",
      "recall      0.77  0.68      0.74       0.72          0.74\n",
      "f1-score    0.79  0.64      0.74       0.72          0.74\n",
      "support   151.00 80.00      0.74     231.00        231.00\n"
     ]
    }
   ],
   "source": [
    "#Gradient Boosting\n",
    "from sklearn.ensemble import GradientBoostingClassifier\n",
    "grad_boost_clf = GradientBoostingClassifier(n_estimators=100, random_state=42)\n",
    "grad_boost_clf.fit(X_train, y_train)\n",
    "evaluate(grad_boost_clf, X_train, X_test, y_train, y_test)"
   ]
  },
  {
   "cell_type": "markdown",
   "id": "221bd372",
   "metadata": {},
   "source": [
    "### 6. Voting Ensembles for averaging the predictions for any arbitrary models."
   ]
  },
  {
   "cell_type": "code",
   "execution_count": 52,
   "id": "bdfbcf4b",
   "metadata": {},
   "outputs": [
    {
     "name": "stdout",
     "output_type": "stream",
     "text": [
      "Training Results: \n",
      "\n",
      "Confusion Matrix:\n",
      "[[327  22]\n",
      " [ 82 106]]\n",
      "Accuracy:\n",
      "0.8063\n",
      "Classification Report:\n",
      "               0      1  accuracy  macro avg  weighted avg\n",
      "precision   0.80   0.83      0.81       0.81          0.81\n",
      "recall      0.94   0.56      0.81       0.75          0.81\n",
      "f1-score    0.86   0.67      0.81       0.77          0.80\n",
      "support   349.00 188.00      0.81     537.00        537.00\n",
      "Testing results: \n",
      "\n",
      "Confusion Matrix:\n",
      "[[131  20]\n",
      " [ 38  42]]\n",
      "Accuracy:\n",
      "0.7489\n",
      "Classification Report:\n",
      "               0     1  accuracy  macro avg  weighted avg\n",
      "precision   0.78  0.68      0.75       0.73          0.74\n",
      "recall      0.87  0.53      0.75       0.70          0.75\n",
      "f1-score    0.82  0.59      0.75       0.71          0.74\n",
      "support   151.00 80.00      0.75     231.00        231.00\n"
     ]
    }
   ],
   "source": [
    "from sklearn.ensemble import VotingClassifier\n",
    "from sklearn.linear_model import LogisticRegression\n",
    "from sklearn.svm import SVC\n",
    "estimators = []\n",
    "log_reg = LogisticRegression(solver='liblinear')\n",
    "estimators.append(('Logistic', log_reg))\n",
    "\n",
    "tree = DecisionTreeClassifier()\n",
    "estimators.append(('Tree', tree))\n",
    "\n",
    "svm_clf = SVC(gamma='scale')\n",
    "estimators.append(('SVM', svm_clf))\n",
    "\n",
    "voting = VotingClassifier(estimators=estimators)\n",
    "voting.fit(X_train, y_train)\n",
    "\n",
    "evaluate(voting, X_train, X_test, y_train, y_test)"
   ]
  },
  {
   "cell_type": "code",
   "execution_count": null,
   "id": "bda7382c",
   "metadata": {},
   "outputs": [],
   "source": []
  }
 ],
 "metadata": {
  "kernelspec": {
   "display_name": "Python 3 (ipykernel)",
   "language": "python",
   "name": "python3"
  },
  "language_info": {
   "codemirror_mode": {
    "name": "ipython",
    "version": 3
   },
   "file_extension": ".py",
   "mimetype": "text/x-python",
   "name": "python",
   "nbconvert_exporter": "python",
   "pygments_lexer": "ipython3",
   "version": "3.10.8"
  }
 },
 "nbformat": 4,
 "nbformat_minor": 5
}
