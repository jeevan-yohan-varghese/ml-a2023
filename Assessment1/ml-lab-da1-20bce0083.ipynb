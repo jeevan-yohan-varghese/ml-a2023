{
 "cells": [
  {
   "cell_type": "markdown",
   "metadata": {},
   "source": [
    "# Machine Learning LAB Assignment 1\n",
    "\n",
    "### 20BCE0083 - Jeevan Yohan Varghese\n",
    "\n",
    "Slot : L43+L44"
   ]
  },
  {
   "cell_type": "markdown",
   "metadata": {},
   "source": [
    "## Numpy Problems"
   ]
  },
  {
   "cell_type": "code",
   "execution_count": 2,
   "metadata": {},
   "outputs": [],
   "source": [
    "import numpy as np"
   ]
  },
  {
   "cell_type": "markdown",
   "metadata": {},
   "source": [
    "#### 1. Create an array of 6 zeros"
   ]
  },
  {
   "cell_type": "code",
   "execution_count": 3,
   "metadata": {},
   "outputs": [
    {
     "name": "stdout",
     "output_type": "stream",
     "text": [
      "[[0 0 0 0 0 0]]\n"
     ]
    }
   ],
   "source": [
    "data=np.zeros((1,6),dtype=np.int64 )\n",
    "print(data)"
   ]
  },
  {
   "cell_type": "markdown",
   "metadata": {},
   "source": [
    "#### 2. . Create an array of 6 ones"
   ]
  },
  {
   "cell_type": "code",
   "execution_count": 4,
   "metadata": {},
   "outputs": [
    {
     "name": "stdout",
     "output_type": "stream",
     "text": [
      "[[1 1 1 1 1 1]]\n"
     ]
    }
   ],
   "source": [
    "data=np.ones((1,6),dtype=np.int64)\n",
    "print(data)"
   ]
  },
  {
   "cell_type": "markdown",
   "metadata": {},
   "source": [
    "#### 3. Create an array of 6 fives"
   ]
  },
  {
   "cell_type": "code",
   "execution_count": 5,
   "metadata": {},
   "outputs": [
    {
     "name": "stdout",
     "output_type": "stream",
     "text": [
      "[5 5 5 5 5 5]\n"
     ]
    }
   ],
   "source": [
    "data=np.ones(6,dtype=np.int64)*5\n",
    "print(data)"
   ]
  },
  {
   "cell_type": "markdown",
   "metadata": {},
   "source": [
    "#### 4. Create an array of integers from 1 to 99"
   ]
  },
  {
   "cell_type": "code",
   "execution_count": 6,
   "metadata": {},
   "outputs": [
    {
     "name": "stdout",
     "output_type": "stream",
     "text": [
      "[ 1  2  3  4  5  6  7  8  9 10 11 12 13 14 15 16 17 18 19 20 21 22 23 24\n",
      " 25 26 27 28 29 30 31 32 33 34 35 36 37 38 39 40 41 42 43 44 45 46 47 48\n",
      " 49 50 51 52 53 54 55 56 57 58 59 60 61 62 63 64 65 66 67 68 69 70 71 72\n",
      " 73 74 75 76 77 78 79 80 81 82 83 84 85 86 87 88 89 90 91 92 93 94 95 96\n",
      " 97 98 99]\n"
     ]
    }
   ],
   "source": [
    "data=np.arange(1,100)\n",
    "print(data)"
   ]
  },
  {
   "cell_type": "markdown",
   "metadata": {},
   "source": [
    "#### 5. Create an array of all the odd integers ranging from 1 to 99"
   ]
  },
  {
   "cell_type": "code",
   "execution_count": 7,
   "metadata": {},
   "outputs": [
    {
     "name": "stdout",
     "output_type": "stream",
     "text": [
      "[ 1  3  5  7  9 11 13 15 17 19 21 23 25 27 29 31 33 35 37 39 41 43 45 47\n",
      " 49 51 53 55 57 59 61 63 65 67 69 71 73 75 77 79 81 83 85 87 89 91 93 95\n",
      " 97 99]\n"
     ]
    }
   ],
   "source": [
    "data=np.arange(1,100,2)\n",
    "print(data)"
   ]
  },
  {
   "cell_type": "markdown",
   "metadata": {},
   "source": [
    "#### 6.Create a 2X2 matrix filled with values from 1 to 4"
   ]
  },
  {
   "cell_type": "code",
   "execution_count": 8,
   "metadata": {},
   "outputs": [
    {
     "name": "stdout",
     "output_type": "stream",
     "text": [
      "[[1 2]\n",
      " [3 4]]\n"
     ]
    }
   ],
   "source": [
    "data=np.arange(1,5).reshape(2,2)\n",
    "print(data)"
   ]
  },
  {
   "cell_type": "markdown",
   "metadata": {},
   "source": [
    "#### 7. Create a 3X3 matrix filled with values from 9 to 17"
   ]
  },
  {
   "cell_type": "code",
   "execution_count": 9,
   "metadata": {},
   "outputs": [
    {
     "name": "stdout",
     "output_type": "stream",
     "text": [
      "[[ 9 10 11]\n",
      " [12 13 14]\n",
      " [15 16 17]]\n"
     ]
    }
   ],
   "source": [
    "data=np.arange(9,18).reshape(3,3)\n",
    "print(data)"
   ]
  },
  {
   "cell_type": "markdown",
   "metadata": {},
   "source": [
    "#### 8. Make an identity matrix of 4X4"
   ]
  },
  {
   "cell_type": "code",
   "execution_count": 10,
   "metadata": {},
   "outputs": [
    {
     "name": "stdout",
     "output_type": "stream",
     "text": [
      "[[1 0 0 0]\n",
      " [0 1 0 0]\n",
      " [0 0 1 0]\n",
      " [0 0 0 1]]\n"
     ]
    }
   ],
   "source": [
    "data=np.identity(4,dtype=np.int64)\n",
    "print(data)"
   ]
  },
  {
   "cell_type": "markdown",
   "metadata": {},
   "source": [
    "#### 9. With the help of Numpy generate a random nos in between 0 to 1"
   ]
  },
  {
   "cell_type": "code",
   "execution_count": 11,
   "metadata": {},
   "outputs": [
    {
     "name": "stdout",
     "output_type": "stream",
     "text": [
      "0.08787494915513927\n"
     ]
    }
   ],
   "source": [
    "data=np.random.rand()\n",
    "print(data)"
   ]
  },
  {
   "cell_type": "markdown",
   "metadata": {},
   "source": [
    "#### 10. Create 10 points that are space linearly from each"
   ]
  },
  {
   "cell_type": "code",
   "execution_count": 12,
   "metadata": {},
   "outputs": [
    {
     "name": "stdout",
     "output_type": "stream",
     "text": [
      "[ 1.  2.  3.  4.  5.  6.  7.  8.  9. 10.]\n"
     ]
    }
   ],
   "source": [
    "data=np.linspace(1,10,10)\n",
    "print(data)"
   ]
  },
  {
   "cell_type": "markdown",
   "metadata": {},
   "source": [
    "#### 11. Compare two 3d array and display the results in terms of true and false."
   ]
  },
  {
   "cell_type": "code",
   "execution_count": 13,
   "metadata": {},
   "outputs": [
    {
     "name": "stdout",
     "output_type": "stream",
     "text": [
      "[[[ True False]\n",
      "  [False False]\n",
      "  [ True  True]]\n",
      "\n",
      " [[ True False]\n",
      "  [ True  True]\n",
      "  [False  True]]\n",
      "\n",
      " [[ True False]\n",
      "  [ True False]\n",
      "  [False  True]]]\n"
     ]
    }
   ],
   "source": [
    "arr1=np.array(\n",
    "    [\n",
    "    [[1,2],[3,4],[4,5]],\n",
    "    [[3,2],[5,7],[6,2]],\n",
    "    [[2,5],[2,1],[3,8]],\n",
    "    ]\n",
    "        )\n",
    "arr2=np.array(\n",
    "    [\n",
    "    [[1,4],[8,8],[4,5]],\n",
    "    [[3,8],[5,7],[2,2]],\n",
    "    [[2,3],[2,0],[9,8]],\n",
    "    ])\n",
    "print(arr1==arr2)\n",
    "#np.where((arr1==arr2).all(axis=1,keepdims=True),[0,0],)"
   ]
  },
  {
   "cell_type": "markdown",
   "metadata": {},
   "source": [
    "#### 12. Create a null vector of size 20 where the 6th value should be updated as 5."
   ]
  },
  {
   "cell_type": "code",
   "execution_count": 14,
   "metadata": {},
   "outputs": [
    {
     "name": "stdout",
     "output_type": "stream",
     "text": [
      "[0 0 0 0 0 0 0 0 0 0 0 0 0 0 0 0 0 0 0 0]\n",
      "[0 0 0 0 0 5 0 0 0 0 0 0 0 0 0 0 0 0 0 0]\n"
     ]
    }
   ],
   "source": [
    "data=np.zeros(20,dtype=np.int64)\n",
    "print(data)\n",
    "data[5]=5\n",
    "print(data)"
   ]
  },
  {
   "cell_type": "markdown",
   "metadata": {},
   "source": [
    "#### 13. Reverse an array of size 100 using numpy."
   ]
  },
  {
   "cell_type": "code",
   "execution_count": 15,
   "metadata": {},
   "outputs": [
    {
     "name": "stdout",
     "output_type": "stream",
     "text": [
      "[99 98 97 96 95 94 93 92 91 90 89 88 87 86 85 84 83 82 81 80 79 78 77 76\n",
      " 75 74 73 72 71 70 69 68 67 66 65 64 63 62 61 60 59 58 57 56 55 54 53 52\n",
      " 51 50 49 48 47 46 45 44 43 42 41 40 39 38 37 36 35 34 33 32 31 30 29 28\n",
      " 27 26 25 24 23 22 21 20 19 18 17 16 15 14 13 12 11 10  9  8  7  6  5  4\n",
      "  3  2  1  0]\n"
     ]
    }
   ],
   "source": [
    "data=np.arange(0,100)\n",
    "datarev=np.flip(data)\n",
    "print(datarev)"
   ]
  },
  {
   "cell_type": "markdown",
   "metadata": {},
   "source": [
    "#### 14. Find the minimum and maximum values of a 20X20 array using numpy"
   ]
  },
  {
   "cell_type": "code",
   "execution_count": 16,
   "metadata": {},
   "outputs": [
    {
     "name": "stdout",
     "output_type": "stream",
     "text": [
      "Max :  399\n",
      "Min :  0\n"
     ]
    }
   ],
   "source": [
    "data=np.random.randint(0,400,size=(20,20))#.reshape(20,20)\n",
    "#print(data)\n",
    "print(\"Max : \",np.max(data))\n",
    "print(\"Min : \",np.min(data))"
   ]
  },
  {
   "cell_type": "markdown",
   "metadata": {},
   "source": [
    "#### 15. Find mean value of a randomly generated array of size 50."
   ]
  },
  {
   "cell_type": "code",
   "execution_count": 17,
   "metadata": {},
   "outputs": [
    {
     "name": "stdout",
     "output_type": "stream",
     "text": [
      "[166 227 156 267 155  64 255 279  26  21  31 204  89  39 158 112  57  98\n",
      "  55 141 282 127 213 170 195 173 275  25 248 100 100 113  83 175  49 297\n",
      " 242  70 141 239  23 177  18 119 275 100 250 281 242 244]\n",
      "152.92\n"
     ]
    }
   ],
   "source": [
    "data=np.random.randint(0,300,size=(50))\n",
    "print(data)\n",
    "print(np.mean(data))"
   ]
  },
  {
   "cell_type": "markdown",
   "metadata": {},
   "source": [
    "#### 16. “ A 20 X20 array filled with zeros at all borders and all 1’s inside”-create such array."
   ]
  },
  {
   "cell_type": "code",
   "execution_count": 18,
   "metadata": {},
   "outputs": [
    {
     "name": "stdout",
     "output_type": "stream",
     "text": [
      "[[0 0 0 0 0 0 0 0 0 0 0 0 0 0 0 0 0 0 0 0]\n",
      " [0 1 1 1 1 1 1 1 1 1 1 1 1 1 1 1 1 1 1 0]\n",
      " [0 1 1 1 1 1 1 1 1 1 1 1 1 1 1 1 1 1 1 0]\n",
      " [0 1 1 1 1 1 1 1 1 1 1 1 1 1 1 1 1 1 1 0]\n",
      " [0 1 1 1 1 1 1 1 1 1 1 1 1 1 1 1 1 1 1 0]\n",
      " [0 1 1 1 1 1 1 1 1 1 1 1 1 1 1 1 1 1 1 0]\n",
      " [0 1 1 1 1 1 1 1 1 1 1 1 1 1 1 1 1 1 1 0]\n",
      " [0 1 1 1 1 1 1 1 1 1 1 1 1 1 1 1 1 1 1 0]\n",
      " [0 1 1 1 1 1 1 1 1 1 1 1 1 1 1 1 1 1 1 0]\n",
      " [0 1 1 1 1 1 1 1 1 1 1 1 1 1 1 1 1 1 1 0]\n",
      " [0 1 1 1 1 1 1 1 1 1 1 1 1 1 1 1 1 1 1 0]\n",
      " [0 1 1 1 1 1 1 1 1 1 1 1 1 1 1 1 1 1 1 0]\n",
      " [0 1 1 1 1 1 1 1 1 1 1 1 1 1 1 1 1 1 1 0]\n",
      " [0 1 1 1 1 1 1 1 1 1 1 1 1 1 1 1 1 1 1 0]\n",
      " [0 1 1 1 1 1 1 1 1 1 1 1 1 1 1 1 1 1 1 0]\n",
      " [0 1 1 1 1 1 1 1 1 1 1 1 1 1 1 1 1 1 1 0]\n",
      " [0 1 1 1 1 1 1 1 1 1 1 1 1 1 1 1 1 1 1 0]\n",
      " [0 1 1 1 1 1 1 1 1 1 1 1 1 1 1 1 1 1 1 0]\n",
      " [0 1 1 1 1 1 1 1 1 1 1 1 1 1 1 1 1 1 1 0]\n",
      " [0 0 0 0 0 0 0 0 0 0 0 0 0 0 0 0 0 0 0 0]]\n"
     ]
    }
   ],
   "source": [
    "data=np.zeros((20,20),dtype=np.int64)\n",
    "data[1:-1,1:-1]=1\n",
    "print(data)"
   ]
  },
  {
   "cell_type": "markdown",
   "metadata": {},
   "source": [
    "#### 17. Create an array of size 10X10 with 10 element valued as nan"
   ]
  },
  {
   "cell_type": "code",
   "execution_count": 19,
   "metadata": {},
   "outputs": [
    {
     "name": "stdout",
     "output_type": "stream",
     "text": [
      "[[nan  1.  1.  1.  1.  1.  1.  1.  1.  1.]\n",
      " [ 1. nan  1.  1.  1.  1.  1.  1.  1.  1.]\n",
      " [ 1.  1. nan  1.  1.  1.  1.  1.  1.  1.]\n",
      " [ 1.  1.  1. nan  1.  1.  1.  1.  1.  1.]\n",
      " [ 1.  1.  1.  1. nan  1.  1.  1.  1.  1.]\n",
      " [ 1.  1.  1.  1.  1. nan  1.  1.  1.  1.]\n",
      " [ 1.  1.  1.  1.  1.  1. nan  1.  1.  1.]\n",
      " [ 1.  1.  1.  1.  1.  1.  1. nan  1.  1.]\n",
      " [ 1.  1.  1.  1.  1.  1.  1.  1. nan  1.]\n",
      " [ 1.  1.  1.  1.  1.  1.  1.  1.  1. nan]]\n"
     ]
    }
   ],
   "source": [
    "data = np.ones((10, 10))\n",
    "for i in range(10):\n",
    "    data[i,i]=np.nan\n",
    "\n",
    "print(data)"
   ]
  },
  {
   "cell_type": "markdown",
   "metadata": {},
   "source": [
    "#### 18. Create a 4X4 matrix and the values just below the diagonal is 9 8 7"
   ]
  },
  {
   "cell_type": "code",
   "execution_count": 20,
   "metadata": {},
   "outputs": [
    {
     "name": "stdout",
     "output_type": "stream",
     "text": [
      "[[0 0 0 0]\n",
      " [7 0 0 0]\n",
      " [0 8 0 0]\n",
      " [0 0 9 0]]\n"
     ]
    }
   ],
   "source": [
    "data = np.diag(1+np.arange(6,9), k = -1)\n",
    "print (data)"
   ]
  },
  {
   "cell_type": "markdown",
   "metadata": {},
   "source": [
    "#### 19. Create a check board pattern using numpy"
   ]
  },
  {
   "cell_type": "code",
   "execution_count": 21,
   "metadata": {},
   "outputs": [
    {
     "name": "stdout",
     "output_type": "stream",
     "text": [
      "[[0 1 0 1 0 1 0 1]\n",
      " [1 0 1 0 1 0 1 0]\n",
      " [0 1 0 1 0 1 0 1]\n",
      " [1 0 1 0 1 0 1 0]\n",
      " [0 1 0 1 0 1 0 1]\n",
      " [1 0 1 0 1 0 1 0]\n",
      " [0 1 0 1 0 1 0 1]\n",
      " [1 0 1 0 1 0 1 0]]\n"
     ]
    }
   ],
   "source": [
    "data = np.zeros ((8,8), dtype=int)\n",
    "data[1::2, ::2]= 1\n",
    "data[::2, 1::2] = 1\n",
    "print (data)"
   ]
  },
  {
   "cell_type": "markdown",
   "metadata": {},
   "source": [
    "#### 20. Print the dtype of int32 and float64 data type."
   ]
  },
  {
   "cell_type": "code",
   "execution_count": 22,
   "metadata": {},
   "outputs": [
    {
     "name": "stdout",
     "output_type": "stream",
     "text": [
      "int32\n",
      "float64\n"
     ]
    }
   ],
   "source": [
    "print(np.dtype(np.int32))\n",
    "print(np.dtype(np.float64))"
   ]
  },
  {
   "cell_type": "markdown",
   "metadata": {},
   "source": [
    "## Pandas Problems"
   ]
  },
  {
   "cell_type": "code",
   "execution_count": 23,
   "metadata": {},
   "outputs": [],
   "source": [
    "import pandas as pd"
   ]
  },
  {
   "cell_type": "markdown",
   "metadata": {},
   "source": [
    "#### 1. Create a pandas Series using lists and dictionaries"
   ]
  },
  {
   "cell_type": "code",
   "execution_count": 24,
   "metadata": {},
   "outputs": [
    {
     "name": "stdout",
     "output_type": "stream",
     "text": [
      "0    Argentina\n",
      "1       France\n",
      "2       Brazil\n",
      "dtype: object\n"
     ]
    }
   ],
   "source": [
    "#using list\n",
    "l=[\"Argentina\",\"France\",\"Brazil\"]\n",
    "data=pd.Series(l)\n",
    "print(data)"
   ]
  },
  {
   "cell_type": "code",
   "execution_count": 25,
   "metadata": {},
   "outputs": [
    {
     "name": "stdout",
     "output_type": "stream",
     "text": [
      "Argentina     Messi\n",
      "France       Mbappe\n",
      "Brazil       Neymar\n",
      "dtype: object\n"
     ]
    }
   ],
   "source": [
    "#using dictionary\n",
    "d={\"Argentina\":\"Messi\",\"France\":\"Mbappe\",\"Brazil\":\"Neymar\"}\n",
    "data=pd.Series(d)\n",
    "print(data)"
   ]
  },
  {
   "cell_type": "markdown",
   "metadata": {},
   "source": [
    "#### 2. Create series using NumPy functions in Pandas"
   ]
  },
  {
   "cell_type": "code",
   "execution_count": 26,
   "metadata": {},
   "outputs": [
    {
     "name": "stdout",
     "output_type": "stream",
     "text": [
      "0    0.138944\n",
      "1    0.206337\n",
      "2    0.165384\n",
      "3    0.612013\n",
      "4    0.771923\n",
      "5    0.215269\n",
      "6    0.018310\n",
      "7    0.667409\n",
      "8    0.172723\n",
      "9    0.607430\n",
      "dtype: float64\n",
      "\n",
      "0      1.000000\n",
      "1     15.142857\n",
      "2     29.285714\n",
      "3     43.428571\n",
      "4     57.571429\n",
      "5     71.714286\n",
      "6     85.857143\n",
      "7    100.000000\n",
      "dtype: float64\n"
     ]
    }
   ],
   "source": [
    "data=pd.Series(np.random.rand(10))\n",
    "print(data)\n",
    "print()\n",
    "data=pd.Series(np.linspace(1,100,8))\n",
    "print(data)"
   ]
  },
  {
   "cell_type": "markdown",
   "metadata": {},
   "source": [
    "#### 3. Find indices and values of series"
   ]
  },
  {
   "cell_type": "code",
   "execution_count": 27,
   "metadata": {},
   "outputs": [
    {
     "name": "stdout",
     "output_type": "stream",
     "text": [
      "Index(['Argentina', 'France', 'Brazil'], dtype='object')\n",
      "['Messi' 'Mbappe' 'Neymar']\n"
     ]
    }
   ],
   "source": [
    "d={\"Argentina\":\"Messi\",\"France\":\"Mbappe\",\"Brazil\":\"Neymar\"}\n",
    "data=pd.Series(d)\n",
    "print(data.index)\n",
    "print(data.values)"
   ]
  },
  {
   "cell_type": "markdown",
   "metadata": {},
   "source": [
    "#### 4. How to specify an index while creating Series in Pandas? \n",
    "#### Find Length Size and Shape of a Series in Pandas?"
   ]
  },
  {
   "cell_type": "code",
   "execution_count": 28,
   "metadata": {},
   "outputs": [
    {
     "name": "stdout",
     "output_type": "stream",
     "text": [
      "10    Argentina\n",
      "11       France\n",
      "12       Brazil\n",
      "dtype: object\n"
     ]
    }
   ],
   "source": [
    "l=[\"Argentina\",\"France\",\"Brazil\"]\n",
    "data=pd.Series(l,index=[10,11,12])\n",
    "print(data)"
   ]
  },
  {
   "cell_type": "code",
   "execution_count": 29,
   "metadata": {},
   "outputs": [
    {
     "name": "stdout",
     "output_type": "stream",
     "text": [
      "3\n",
      "(3,)\n"
     ]
    }
   ],
   "source": [
    "print(data.size)\n",
    "print(data.shape)"
   ]
  },
  {
   "cell_type": "markdown",
   "metadata": {},
   "source": [
    "#### 5. Find first and last few values"
   ]
  },
  {
   "cell_type": "code",
   "execution_count": 30,
   "metadata": {},
   "outputs": [
    {
     "name": "stdout",
     "output_type": "stream",
     "text": [
      "First two values : \n",
      "0    India\n",
      "1    China\n",
      "dtype: object\n",
      "\n",
      "Last two values : \n",
      "7    Kuwait\n",
      "8     Saudi\n",
      "dtype: object\n"
     ]
    }
   ],
   "source": [
    "data=pd.Series([\"India\",\"China\",\"Pakistan\",\"Sri Lanka\",\"Bangladesh\",\"UAE\",\"Quatar\",\"Kuwait\",\"Saudi\"])\n",
    "print(\"First two values : \")\n",
    "print(data.head(2))\n",
    "print(\"\\nLast two values : \")\n",
    "print(data.tail(2))"
   ]
  },
  {
   "cell_type": "markdown",
   "metadata": {},
   "source": [
    "#### 6. Handling missing values"
   ]
  },
  {
   "cell_type": "code",
   "execution_count": 31,
   "metadata": {},
   "outputs": [
    {
     "name": "stdout",
     "output_type": "stream",
     "text": [
      "PassengerId      0\n",
      "Survived         0\n",
      "Pclass           0\n",
      "Name             0\n",
      "Sex              0\n",
      "Age            177\n",
      "SibSp            0\n",
      "Parch            0\n",
      "Ticket           0\n",
      "Fare             0\n",
      "Cabin          687\n",
      "Embarked         2\n",
      "dtype: int64\n"
     ]
    }
   ],
   "source": [
    "data=pd.read_csv('train.csv')\n",
    "\n",
    "print(data.isnull().sum())"
   ]
  },
  {
   "cell_type": "code",
   "execution_count": 32,
   "metadata": {},
   "outputs": [
    {
     "name": "stdout",
     "output_type": "stream",
     "text": [
      "After deleting rows with missing values : \n",
      "PassengerId    0\n",
      "Survived       0\n",
      "Pclass         0\n",
      "Name           0\n",
      "Sex            0\n",
      "Age            0\n",
      "SibSp          0\n",
      "Parch          0\n",
      "Ticket         0\n",
      "Fare           0\n",
      "Cabin          0\n",
      "Embarked       0\n",
      "dtype: int64\n",
      "\n"
     ]
    }
   ],
   "source": [
    "\n",
    "# 1. Deleting Row\n",
    "df = data.copy()\n",
    "df.dropna(inplace=True)\n",
    "print(\"After deleting rows with missing values : \")\n",
    "print(df.isnull().sum())\n",
    "#print(df)\n",
    "print()\n"
   ]
  },
  {
   "cell_type": "code",
   "execution_count": 33,
   "metadata": {},
   "outputs": [
    {
     "name": "stdout",
     "output_type": "stream",
     "text": [
      "Age values before inserting mean\n",
      "0    22.0\n",
      "1    38.0\n",
      "2    26.0\n",
      "3    35.0\n",
      "4    35.0\n",
      "5     NaN\n",
      "6    54.0\n",
      "7     2.0\n",
      "8    27.0\n",
      "9    14.0\n",
      "Name: Age, dtype: float64\n",
      "\n",
      "Age values after inserting mean\n",
      "0    22.000000\n",
      "1    38.000000\n",
      "2    26.000000\n",
      "3    35.000000\n",
      "4    35.000000\n",
      "5    29.699118\n",
      "6    54.000000\n",
      "7     2.000000\n",
      "8    27.000000\n",
      "9    14.000000\n",
      "Name: Age, dtype: float64\n",
      "PassengerId      0\n",
      "Survived         0\n",
      "Pclass           0\n",
      "Name             0\n",
      "Sex              0\n",
      "Age              0\n",
      "SibSp            0\n",
      "Parch            0\n",
      "Ticket           0\n",
      "Fare             0\n",
      "Cabin          687\n",
      "Embarked         2\n",
      "dtype: int64\n",
      "\n"
     ]
    }
   ],
   "source": [
    "#2. Insert Mean\n",
    "\n",
    "\n",
    "df=data.copy()\n",
    "print(\"Age values before inserting mean\")\n",
    "print(df['Age'].head(10))\n",
    "df['Age'] = df['Age'].fillna(df['Age'].mean())\n",
    "\n",
    "print(\"\\nAge values after inserting mean\")\n",
    "print(df['Age'].head(10))\n",
    "print(df.isnull().sum())\n",
    "print()\n"
   ]
  },
  {
   "cell_type": "code",
   "execution_count": 34,
   "metadata": {},
   "outputs": [
    {
     "name": "stdout",
     "output_type": "stream",
     "text": [
      "\n",
      "Age values before inserting mode\n",
      "0    22.0\n",
      "1    38.0\n",
      "2    26.0\n",
      "3    35.0\n",
      "4    35.0\n",
      "5     NaN\n",
      "6    54.0\n",
      "7     2.0\n",
      "8    27.0\n",
      "9    14.0\n",
      "Name: Age, dtype: float64\n",
      "\n",
      "Age values after inserting mode\n",
      "0    22.0\n",
      "1    38.0\n",
      "2    26.0\n",
      "3    35.0\n",
      "4    35.0\n",
      "5    24.0\n",
      "6    54.0\n",
      "7     2.0\n",
      "8    27.0\n",
      "9    14.0\n",
      "Name: Age, dtype: float64\n",
      "PassengerId      0\n",
      "Survived         0\n",
      "Pclass           0\n",
      "Name             0\n",
      "Sex              0\n",
      "Age              0\n",
      "SibSp            0\n",
      "Parch            0\n",
      "Ticket           0\n",
      "Fare             0\n",
      "Cabin          687\n",
      "Embarked         2\n",
      "dtype: int64\n"
     ]
    }
   ],
   "source": [
    "\n",
    "#3. Insert Mode\n",
    "df=data.copy()\n",
    "print(\"\\nAge values before inserting mode\")\n",
    "print(df['Age'].head(10))\n",
    "df['Age'] = df['Age'].fillna(df['Age'].mode()[0])\n",
    "print(\"\\nAge values after inserting mode\")\n",
    "print(df['Age'].head(10))\n",
    "print(df.isnull().sum())\n",
    "#print(df)\n"
   ]
  },
  {
   "cell_type": "code",
   "execution_count": 35,
   "metadata": {},
   "outputs": [
    {
     "name": "stdout",
     "output_type": "stream",
     "text": [
      "\n",
      "Age values before inserting median\n",
      "0    22.0\n",
      "1    38.0\n",
      "2    26.0\n",
      "3    35.0\n",
      "4    35.0\n",
      "5     NaN\n",
      "6    54.0\n",
      "7     2.0\n",
      "8    27.0\n",
      "9    14.0\n",
      "Name: Age, dtype: float64\n",
      "\n",
      "Age values after inserting median\n",
      "0    22.0\n",
      "1    38.0\n",
      "2    26.0\n",
      "3    35.0\n",
      "4    35.0\n",
      "5    28.0\n",
      "6    54.0\n",
      "7     2.0\n",
      "8    27.0\n",
      "9    14.0\n",
      "Name: Age, dtype: float64\n",
      "PassengerId      0\n",
      "Survived         0\n",
      "Pclass           0\n",
      "Name             0\n",
      "Sex              0\n",
      "Age              0\n",
      "SibSp            0\n",
      "Parch            0\n",
      "Ticket           0\n",
      "Fare             0\n",
      "Cabin          687\n",
      "Embarked         2\n",
      "dtype: int64\n"
     ]
    }
   ],
   "source": [
    "#4 Insert median\n",
    "df=data.copy()\n",
    "print(\"\\nAge values before inserting median\")\n",
    "print(df['Age'].head(10))\n",
    "df['Age'] = df['Age'].fillna(df['Age'].median())\n",
    "print(\"\\nAge values after inserting median\")\n",
    "print(df['Age'].head(10))\n",
    "print(df.isnull().sum())"
   ]
  },
  {
   "cell_type": "code",
   "execution_count": 36,
   "metadata": {},
   "outputs": [
    {
     "name": "stdout",
     "output_type": "stream",
     "text": [
      "Age Values before LOCF\n",
      "0    22.0\n",
      "1    38.0\n",
      "2    26.0\n",
      "3    35.0\n",
      "4    35.0\n",
      "5     NaN\n",
      "6    54.0\n",
      "7     2.0\n",
      "8    27.0\n",
      "9    14.0\n",
      "Name: Age, dtype: float64\n",
      "\n",
      "Age Values after LOCF\n",
      "0    22.0\n",
      "1    38.0\n",
      "2    26.0\n",
      "3    35.0\n",
      "4    35.0\n",
      "5    35.0\n",
      "6    54.0\n",
      "7     2.0\n",
      "8    27.0\n",
      "9    14.0\n",
      "Name: Age, dtype: float64\n",
      "PassengerId      0\n",
      "Survived         0\n",
      "Pclass           0\n",
      "Name             0\n",
      "Sex              0\n",
      "Age              0\n",
      "SibSp            0\n",
      "Parch            0\n",
      "Ticket           0\n",
      "Fare             0\n",
      "Cabin          687\n",
      "Embarked         2\n",
      "dtype: int64\n"
     ]
    }
   ],
   "source": [
    "\n",
    "#5. Last Observation Carried Forward\n",
    "df=data.copy()\n",
    "print(\"Age Values before LOCF\")\n",
    "print(df['Age'].head(10))\n",
    "print(\"\\nAge Values after LOCF\")\n",
    "df[\"Age\"] = df[\"Age\"].fillna(method='ffill')\n",
    "print(df['Age'].head(10))\n",
    "print(df.isnull().sum())\n"
   ]
  },
  {
   "cell_type": "code",
   "execution_count": 37,
   "metadata": {},
   "outputs": [
    {
     "name": "stdout",
     "output_type": "stream",
     "text": [
      "\n",
      " Cabin values before imputation\n",
      "0     NaN\n",
      "1     C85\n",
      "2     NaN\n",
      "3    C123\n",
      "4     NaN\n",
      "5     NaN\n",
      "6     E46\n",
      "7     NaN\n",
      "8     NaN\n",
      "9     NaN\n",
      "Name: Cabin, dtype: object\n",
      "\n",
      " Cabin values after imputation\n",
      "0       Z\n",
      "1     C85\n",
      "2       Z\n",
      "3    C123\n",
      "4       Z\n",
      "5       Z\n",
      "6     E46\n",
      "7       Z\n",
      "8       Z\n",
      "9       Z\n",
      "Name: Cabin, dtype: object\n",
      "PassengerId      0\n",
      "Survived         0\n",
      "Pclass           0\n",
      "Name             0\n",
      "Sex              0\n",
      "Age            177\n",
      "SibSp            0\n",
      "Parch            0\n",
      "Ticket           0\n",
      "Fare             0\n",
      "Cabin            0\n",
      "Embarked         2\n",
      "dtype: int64\n"
     ]
    }
   ],
   "source": [
    "\n",
    "#6. Imputation\n",
    "\n",
    "df=data.copy()\n",
    "print(\"\\n Cabin values before imputation\")\n",
    "print(df['Cabin'].head(10))\n",
    "df['Cabin'] = df['Cabin'].fillna('Z')\n",
    "print(\"\\n Cabin values after imputation\")\n",
    "print(df['Cabin'].head(10))\n",
    "print(df.isnull().sum())"
   ]
  },
  {
   "cell_type": "code",
   "execution_count": 38,
   "metadata": {},
   "outputs": [
    {
     "name": "stdout",
     "output_type": "stream",
     "text": [
      "Age Values before interpolation\n",
      "0    22.0\n",
      "1    38.0\n",
      "2    26.0\n",
      "3    35.0\n",
      "4    35.0\n",
      "5     NaN\n",
      "6    54.0\n",
      "7     2.0\n",
      "8    27.0\n",
      "9    14.0\n",
      "Name: Age, dtype: float64\n",
      "\n",
      "Age Values after interpolation\n",
      "0    22.0\n",
      "1    38.0\n",
      "2    26.0\n",
      "3    35.0\n",
      "4    35.0\n",
      "5    44.5\n",
      "6    54.0\n",
      "7     2.0\n",
      "8    27.0\n",
      "9    14.0\n",
      "Name: Age, dtype: float64\n"
     ]
    }
   ],
   "source": [
    "# 7. Interpolation\n",
    "df=data.copy()\n",
    "print(\"Age Values before interpolation\")\n",
    "print(df['Age'].head(10))\n",
    "df[\"Age\"] = df[\"Age\"].interpolate(method='linear', limit_direction='forward', axis=0)\n",
    "print(\"\\nAge Values after interpolation\")\n",
    "print(df['Age'].head(10))\n"
   ]
  },
  {
   "cell_type": "markdown",
   "metadata": {},
   "source": [
    "#### 7. Checking the duplicate rows and columns using pandas."
   ]
  },
  {
   "cell_type": "code",
   "execution_count": 39,
   "metadata": {},
   "outputs": [
    {
     "name": "stdout",
     "output_type": "stream",
     "text": [
      "  Student  Age Grade\n",
      "2    John   20     A\n"
     ]
    }
   ],
   "source": [
    "stud=[(\"John\",20,\"A\"),(\"Sam\",21,\"S\"),(\"John\",20,\"A\"),(\"Steve\",20,\"B\"),(\"Tim\",21,\"B\")]\n",
    "data=pd.DataFrame(stud,columns=[\"Student\",\"Age\",\"Grade\"])\n",
    "print(data[data.duplicated()])"
   ]
  },
  {
   "cell_type": "markdown",
   "metadata": {},
   "source": [
    "#### 8. Normalizing Data"
   ]
  },
  {
   "cell_type": "code",
   "execution_count": 44,
   "metadata": {},
   "outputs": [
    {
     "name": "stdout",
     "output_type": "stream",
     "text": [
      "    weight  height\n",
      "0        3   75009\n",
      "1        5   60037\n",
      "2        6   68768\n",
      "3        1   76793\n",
      "4        6   70945\n",
      "5        3   53909\n",
      "6        1   54355\n",
      "7        7   52246\n",
      "8        3   42426\n",
      "9        7   44320\n",
      "10       4   54510\n",
      "11       2   58027\n",
      "12       7   73807\n",
      "13       6   59017\n",
      "14       1   66472\n",
      "15       2   43752\n",
      "16       8   58822\n",
      "17       7   60341\n",
      "18       6   46711\n",
      "19       2   69764\n",
      "20       5   62288\n",
      "21       8   45874\n",
      "22       2   41961\n",
      "23       8   54463\n",
      "24       6   79075\n",
      "25       4   71072\n",
      "26       5   48425\n",
      "27       1   62616\n",
      "28       2   73408\n",
      "29       4   69822\n",
      "30       3   52055\n",
      "31       2   64700\n",
      "32       8   45734\n",
      "33       5   78058\n",
      "34       8   61757\n",
      "35       8   43918\n",
      "36       1   46908\n",
      "37       8   72557\n",
      "38       9   61480\n",
      "39       7   60166\n"
     ]
    },
    {
     "data": {
      "text/html": [
       "<div>\n",
       "<style scoped>\n",
       "    .dataframe tbody tr th:only-of-type {\n",
       "        vertical-align: middle;\n",
       "    }\n",
       "\n",
       "    .dataframe tbody tr th {\n",
       "        vertical-align: top;\n",
       "    }\n",
       "\n",
       "    .dataframe thead th {\n",
       "        text-align: right;\n",
       "    }\n",
       "</style>\n",
       "<table border=\"1\" class=\"dataframe\">\n",
       "  <thead>\n",
       "    <tr style=\"text-align: right;\">\n",
       "      <th></th>\n",
       "      <th>weight</th>\n",
       "      <th>height</th>\n",
       "    </tr>\n",
       "  </thead>\n",
       "  <tbody>\n",
       "    <tr>\n",
       "      <th>0</th>\n",
       "      <td>0.250</td>\n",
       "      <td>0.890446</td>\n",
       "    </tr>\n",
       "    <tr>\n",
       "      <th>1</th>\n",
       "      <td>0.500</td>\n",
       "      <td>0.487040</td>\n",
       "    </tr>\n",
       "    <tr>\n",
       "      <th>2</th>\n",
       "      <td>0.625</td>\n",
       "      <td>0.722288</td>\n",
       "    </tr>\n",
       "    <tr>\n",
       "      <th>3</th>\n",
       "      <td>0.000</td>\n",
       "      <td>0.938514</td>\n",
       "    </tr>\n",
       "    <tr>\n",
       "      <th>4</th>\n",
       "      <td>0.625</td>\n",
       "      <td>0.780945</td>\n",
       "    </tr>\n",
       "    <tr>\n",
       "      <th>5</th>\n",
       "      <td>0.250</td>\n",
       "      <td>0.321927</td>\n",
       "    </tr>\n",
       "    <tr>\n",
       "      <th>6</th>\n",
       "      <td>0.000</td>\n",
       "      <td>0.333944</td>\n",
       "    </tr>\n",
       "    <tr>\n",
       "      <th>7</th>\n",
       "      <td>0.750</td>\n",
       "      <td>0.277119</td>\n",
       "    </tr>\n",
       "    <tr>\n",
       "      <th>8</th>\n",
       "      <td>0.250</td>\n",
       "      <td>0.012529</td>\n",
       "    </tr>\n",
       "    <tr>\n",
       "      <th>9</th>\n",
       "      <td>0.750</td>\n",
       "      <td>0.063561</td>\n",
       "    </tr>\n",
       "    <tr>\n",
       "      <th>10</th>\n",
       "      <td>0.375</td>\n",
       "      <td>0.338120</td>\n",
       "    </tr>\n",
       "    <tr>\n",
       "      <th>11</th>\n",
       "      <td>0.125</td>\n",
       "      <td>0.432882</td>\n",
       "    </tr>\n",
       "    <tr>\n",
       "      <th>12</th>\n",
       "      <td>0.750</td>\n",
       "      <td>0.858059</td>\n",
       "    </tr>\n",
       "    <tr>\n",
       "      <th>13</th>\n",
       "      <td>0.625</td>\n",
       "      <td>0.459557</td>\n",
       "    </tr>\n",
       "    <tr>\n",
       "      <th>14</th>\n",
       "      <td>0.000</td>\n",
       "      <td>0.660425</td>\n",
       "    </tr>\n",
       "    <tr>\n",
       "      <th>15</th>\n",
       "      <td>0.125</td>\n",
       "      <td>0.048257</td>\n",
       "    </tr>\n",
       "    <tr>\n",
       "      <th>16</th>\n",
       "      <td>0.875</td>\n",
       "      <td>0.454303</td>\n",
       "    </tr>\n",
       "    <tr>\n",
       "      <th>17</th>\n",
       "      <td>0.750</td>\n",
       "      <td>0.495231</td>\n",
       "    </tr>\n",
       "    <tr>\n",
       "      <th>18</th>\n",
       "      <td>0.625</td>\n",
       "      <td>0.127984</td>\n",
       "    </tr>\n",
       "    <tr>\n",
       "      <th>19</th>\n",
       "      <td>0.125</td>\n",
       "      <td>0.749124</td>\n",
       "    </tr>\n",
       "    <tr>\n",
       "      <th>20</th>\n",
       "      <td>0.500</td>\n",
       "      <td>0.547691</td>\n",
       "    </tr>\n",
       "    <tr>\n",
       "      <th>21</th>\n",
       "      <td>0.875</td>\n",
       "      <td>0.105432</td>\n",
       "    </tr>\n",
       "    <tr>\n",
       "      <th>22</th>\n",
       "      <td>0.125</td>\n",
       "      <td>0.000000</td>\n",
       "    </tr>\n",
       "    <tr>\n",
       "      <th>23</th>\n",
       "      <td>0.875</td>\n",
       "      <td>0.336854</td>\n",
       "    </tr>\n",
       "    <tr>\n",
       "      <th>24</th>\n",
       "      <td>0.625</td>\n",
       "      <td>1.000000</td>\n",
       "    </tr>\n",
       "    <tr>\n",
       "      <th>25</th>\n",
       "      <td>0.375</td>\n",
       "      <td>0.784367</td>\n",
       "    </tr>\n",
       "    <tr>\n",
       "      <th>26</th>\n",
       "      <td>0.500</td>\n",
       "      <td>0.174166</td>\n",
       "    </tr>\n",
       "    <tr>\n",
       "      <th>27</th>\n",
       "      <td>0.000</td>\n",
       "      <td>0.556529</td>\n",
       "    </tr>\n",
       "    <tr>\n",
       "      <th>28</th>\n",
       "      <td>0.125</td>\n",
       "      <td>0.847308</td>\n",
       "    </tr>\n",
       "    <tr>\n",
       "      <th>29</th>\n",
       "      <td>0.375</td>\n",
       "      <td>0.750687</td>\n",
       "    </tr>\n",
       "    <tr>\n",
       "      <th>30</th>\n",
       "      <td>0.250</td>\n",
       "      <td>0.271973</td>\n",
       "    </tr>\n",
       "    <tr>\n",
       "      <th>31</th>\n",
       "      <td>0.125</td>\n",
       "      <td>0.612680</td>\n",
       "    </tr>\n",
       "    <tr>\n",
       "      <th>32</th>\n",
       "      <td>0.875</td>\n",
       "      <td>0.101660</td>\n",
       "    </tr>\n",
       "    <tr>\n",
       "      <th>33</th>\n",
       "      <td>0.500</td>\n",
       "      <td>0.972598</td>\n",
       "    </tr>\n",
       "    <tr>\n",
       "      <th>34</th>\n",
       "      <td>0.875</td>\n",
       "      <td>0.533384</td>\n",
       "    </tr>\n",
       "    <tr>\n",
       "      <th>35</th>\n",
       "      <td>0.875</td>\n",
       "      <td>0.052729</td>\n",
       "    </tr>\n",
       "    <tr>\n",
       "      <th>36</th>\n",
       "      <td>0.000</td>\n",
       "      <td>0.133292</td>\n",
       "    </tr>\n",
       "    <tr>\n",
       "      <th>37</th>\n",
       "      <td>0.875</td>\n",
       "      <td>0.824379</td>\n",
       "    </tr>\n",
       "    <tr>\n",
       "      <th>38</th>\n",
       "      <td>1.000</td>\n",
       "      <td>0.525920</td>\n",
       "    </tr>\n",
       "    <tr>\n",
       "      <th>39</th>\n",
       "      <td>0.750</td>\n",
       "      <td>0.490516</td>\n",
       "    </tr>\n",
       "  </tbody>\n",
       "</table>\n",
       "</div>"
      ],
      "text/plain": [
       "    weight    height\n",
       "0    0.250  0.890446\n",
       "1    0.500  0.487040\n",
       "2    0.625  0.722288\n",
       "3    0.000  0.938514\n",
       "4    0.625  0.780945\n",
       "5    0.250  0.321927\n",
       "6    0.000  0.333944\n",
       "7    0.750  0.277119\n",
       "8    0.250  0.012529\n",
       "9    0.750  0.063561\n",
       "10   0.375  0.338120\n",
       "11   0.125  0.432882\n",
       "12   0.750  0.858059\n",
       "13   0.625  0.459557\n",
       "14   0.000  0.660425\n",
       "15   0.125  0.048257\n",
       "16   0.875  0.454303\n",
       "17   0.750  0.495231\n",
       "18   0.625  0.127984\n",
       "19   0.125  0.749124\n",
       "20   0.500  0.547691\n",
       "21   0.875  0.105432\n",
       "22   0.125  0.000000\n",
       "23   0.875  0.336854\n",
       "24   0.625  1.000000\n",
       "25   0.375  0.784367\n",
       "26   0.500  0.174166\n",
       "27   0.000  0.556529\n",
       "28   0.125  0.847308\n",
       "29   0.375  0.750687\n",
       "30   0.250  0.271973\n",
       "31   0.125  0.612680\n",
       "32   0.875  0.101660\n",
       "33   0.500  0.972598\n",
       "34   0.875  0.533384\n",
       "35   0.875  0.052729\n",
       "36   0.000  0.133292\n",
       "37   0.875  0.824379\n",
       "38   1.000  0.525920\n",
       "39   0.750  0.490516"
      ]
     },
     "execution_count": 44,
     "metadata": {},
     "output_type": "execute_result"
    }
   ],
   "source": [
    "#MinMaxScaler\n",
    "from sklearn.preprocessing import MinMaxScaler\n",
    "\n",
    "data=pd.DataFrame({\"weight\":np.random.randint(1,10,40),\"height\":np.random.randint(40000,80000,40)})\n",
    "print(data)\n",
    "\n",
    "scaler = MinMaxScaler()\n",
    "df_norm = pd.DataFrame(scaler.fit_transform(data), columns=data.columns)\n",
    "\n",
    "df_norm"
   ]
  },
  {
   "cell_type": "code",
   "execution_count": 45,
   "metadata": {},
   "outputs": [
    {
     "data": {
      "text/html": [
       "<div>\n",
       "<style scoped>\n",
       "    .dataframe tbody tr th:only-of-type {\n",
       "        vertical-align: middle;\n",
       "    }\n",
       "\n",
       "    .dataframe tbody tr th {\n",
       "        vertical-align: top;\n",
       "    }\n",
       "\n",
       "    .dataframe thead th {\n",
       "        text-align: right;\n",
       "    }\n",
       "</style>\n",
       "<table border=\"1\" class=\"dataframe\">\n",
       "  <thead>\n",
       "    <tr style=\"text-align: right;\">\n",
       "      <th></th>\n",
       "      <th>weight</th>\n",
       "      <th>height</th>\n",
       "    </tr>\n",
       "  </thead>\n",
       "  <tbody>\n",
       "    <tr>\n",
       "      <th>0</th>\n",
       "      <td>-0.703039</td>\n",
       "      <td>1.392526</td>\n",
       "    </tr>\n",
       "    <tr>\n",
       "      <th>1</th>\n",
       "      <td>0.089118</td>\n",
       "      <td>0.034274</td>\n",
       "    </tr>\n",
       "    <tr>\n",
       "      <th>2</th>\n",
       "      <td>0.485196</td>\n",
       "      <td>0.826346</td>\n",
       "    </tr>\n",
       "    <tr>\n",
       "      <th>3</th>\n",
       "      <td>-1.495196</td>\n",
       "      <td>1.554370</td>\n",
       "    </tr>\n",
       "    <tr>\n",
       "      <th>4</th>\n",
       "      <td>0.485196</td>\n",
       "      <td>1.023842</td>\n",
       "    </tr>\n",
       "    <tr>\n",
       "      <th>5</th>\n",
       "      <td>-0.703039</td>\n",
       "      <td>-0.521655</td>\n",
       "    </tr>\n",
       "    <tr>\n",
       "      <th>6</th>\n",
       "      <td>-1.495196</td>\n",
       "      <td>-0.481194</td>\n",
       "    </tr>\n",
       "    <tr>\n",
       "      <th>7</th>\n",
       "      <td>0.881275</td>\n",
       "      <td>-0.672522</td>\n",
       "    </tr>\n",
       "    <tr>\n",
       "      <th>8</th>\n",
       "      <td>-0.703039</td>\n",
       "      <td>-1.563388</td>\n",
       "    </tr>\n",
       "    <tr>\n",
       "      <th>9</th>\n",
       "      <td>0.881275</td>\n",
       "      <td>-1.391565</td>\n",
       "    </tr>\n",
       "    <tr>\n",
       "      <th>10</th>\n",
       "      <td>-0.306961</td>\n",
       "      <td>-0.467133</td>\n",
       "    </tr>\n",
       "    <tr>\n",
       "      <th>11</th>\n",
       "      <td>-1.099118</td>\n",
       "      <td>-0.148072</td>\n",
       "    </tr>\n",
       "    <tr>\n",
       "      <th>12</th>\n",
       "      <td>0.881275</td>\n",
       "      <td>1.283482</td>\n",
       "    </tr>\n",
       "    <tr>\n",
       "      <th>13</th>\n",
       "      <td>0.485196</td>\n",
       "      <td>-0.058260</td>\n",
       "    </tr>\n",
       "    <tr>\n",
       "      <th>14</th>\n",
       "      <td>-1.495196</td>\n",
       "      <td>0.618054</td>\n",
       "    </tr>\n",
       "    <tr>\n",
       "      <th>15</th>\n",
       "      <td>-1.099118</td>\n",
       "      <td>-1.443093</td>\n",
       "    </tr>\n",
       "    <tr>\n",
       "      <th>16</th>\n",
       "      <td>1.277353</td>\n",
       "      <td>-0.075950</td>\n",
       "    </tr>\n",
       "    <tr>\n",
       "      <th>17</th>\n",
       "      <td>0.881275</td>\n",
       "      <td>0.061853</td>\n",
       "    </tr>\n",
       "    <tr>\n",
       "      <th>18</th>\n",
       "      <td>0.485196</td>\n",
       "      <td>-1.174654</td>\n",
       "    </tr>\n",
       "    <tr>\n",
       "      <th>19</th>\n",
       "      <td>-1.099118</td>\n",
       "      <td>0.916703</td>\n",
       "    </tr>\n",
       "    <tr>\n",
       "      <th>20</th>\n",
       "      <td>0.089118</td>\n",
       "      <td>0.238483</td>\n",
       "    </tr>\n",
       "    <tr>\n",
       "      <th>21</th>\n",
       "      <td>1.277353</td>\n",
       "      <td>-1.250587</td>\n",
       "    </tr>\n",
       "    <tr>\n",
       "      <th>22</th>\n",
       "      <td>-1.099118</td>\n",
       "      <td>-1.605572</td>\n",
       "    </tr>\n",
       "    <tr>\n",
       "      <th>23</th>\n",
       "      <td>1.277353</td>\n",
       "      <td>-0.471397</td>\n",
       "    </tr>\n",
       "    <tr>\n",
       "      <th>24</th>\n",
       "      <td>0.485196</td>\n",
       "      <td>1.761392</td>\n",
       "    </tr>\n",
       "    <tr>\n",
       "      <th>25</th>\n",
       "      <td>-0.306961</td>\n",
       "      <td>1.035364</td>\n",
       "    </tr>\n",
       "    <tr>\n",
       "      <th>26</th>\n",
       "      <td>0.089118</td>\n",
       "      <td>-1.019161</td>\n",
       "    </tr>\n",
       "    <tr>\n",
       "      <th>27</th>\n",
       "      <td>-1.495196</td>\n",
       "      <td>0.268239</td>\n",
       "    </tr>\n",
       "    <tr>\n",
       "      <th>28</th>\n",
       "      <td>-1.099118</td>\n",
       "      <td>1.247284</td>\n",
       "    </tr>\n",
       "    <tr>\n",
       "      <th>29</th>\n",
       "      <td>-0.306961</td>\n",
       "      <td>0.921964</td>\n",
       "    </tr>\n",
       "    <tr>\n",
       "      <th>30</th>\n",
       "      <td>-0.703039</td>\n",
       "      <td>-0.689849</td>\n",
       "    </tr>\n",
       "    <tr>\n",
       "      <th>31</th>\n",
       "      <td>-1.099118</td>\n",
       "      <td>0.457299</td>\n",
       "    </tr>\n",
       "    <tr>\n",
       "      <th>32</th>\n",
       "      <td>1.277353</td>\n",
       "      <td>-1.263287</td>\n",
       "    </tr>\n",
       "    <tr>\n",
       "      <th>33</th>\n",
       "      <td>0.089118</td>\n",
       "      <td>1.669130</td>\n",
       "    </tr>\n",
       "    <tr>\n",
       "      <th>34</th>\n",
       "      <td>1.277353</td>\n",
       "      <td>0.190311</td>\n",
       "    </tr>\n",
       "    <tr>\n",
       "      <th>35</th>\n",
       "      <td>1.277353</td>\n",
       "      <td>-1.428034</td>\n",
       "    </tr>\n",
       "    <tr>\n",
       "      <th>36</th>\n",
       "      <td>-1.495196</td>\n",
       "      <td>-1.156783</td>\n",
       "    </tr>\n",
       "    <tr>\n",
       "      <th>37</th>\n",
       "      <td>1.277353</td>\n",
       "      <td>1.170082</td>\n",
       "    </tr>\n",
       "    <tr>\n",
       "      <th>38</th>\n",
       "      <td>1.673431</td>\n",
       "      <td>0.165182</td>\n",
       "    </tr>\n",
       "    <tr>\n",
       "      <th>39</th>\n",
       "      <td>0.881275</td>\n",
       "      <td>0.045977</td>\n",
       "    </tr>\n",
       "  </tbody>\n",
       "</table>\n",
       "</div>"
      ],
      "text/plain": [
       "      weight    height\n",
       "0  -0.703039  1.392526\n",
       "1   0.089118  0.034274\n",
       "2   0.485196  0.826346\n",
       "3  -1.495196  1.554370\n",
       "4   0.485196  1.023842\n",
       "5  -0.703039 -0.521655\n",
       "6  -1.495196 -0.481194\n",
       "7   0.881275 -0.672522\n",
       "8  -0.703039 -1.563388\n",
       "9   0.881275 -1.391565\n",
       "10 -0.306961 -0.467133\n",
       "11 -1.099118 -0.148072\n",
       "12  0.881275  1.283482\n",
       "13  0.485196 -0.058260\n",
       "14 -1.495196  0.618054\n",
       "15 -1.099118 -1.443093\n",
       "16  1.277353 -0.075950\n",
       "17  0.881275  0.061853\n",
       "18  0.485196 -1.174654\n",
       "19 -1.099118  0.916703\n",
       "20  0.089118  0.238483\n",
       "21  1.277353 -1.250587\n",
       "22 -1.099118 -1.605572\n",
       "23  1.277353 -0.471397\n",
       "24  0.485196  1.761392\n",
       "25 -0.306961  1.035364\n",
       "26  0.089118 -1.019161\n",
       "27 -1.495196  0.268239\n",
       "28 -1.099118  1.247284\n",
       "29 -0.306961  0.921964\n",
       "30 -0.703039 -0.689849\n",
       "31 -1.099118  0.457299\n",
       "32  1.277353 -1.263287\n",
       "33  0.089118  1.669130\n",
       "34  1.277353  0.190311\n",
       "35  1.277353 -1.428034\n",
       "36 -1.495196 -1.156783\n",
       "37  1.277353  1.170082\n",
       "38  1.673431  0.165182\n",
       "39  0.881275  0.045977"
      ]
     },
     "execution_count": 45,
     "metadata": {},
     "output_type": "execute_result"
    }
   ],
   "source": [
    "#Z Score\n",
    "from sklearn.preprocessing import StandardScaler\n",
    "\n",
    "\n",
    "std_scaler = StandardScaler()\n",
    "std_scaler\n",
    "\n",
    "df_std = pd.DataFrame(std_scaler.fit_transform(data), columns=data.columns)\n",
    "\n",
    "df_std"
   ]
  },
  {
   "cell_type": "code",
   "execution_count": 41,
   "metadata": {},
   "outputs": [
    {
     "name": "stdout",
     "output_type": "stream",
     "text": [
      "    weight  height\n",
      "0        3   53792\n",
      "1        8   77189\n",
      "2        1   50773\n",
      "3        2   51202\n",
      "4        6   43143\n",
      "5        8   42461\n",
      "6        6   48794\n",
      "7        7   73447\n",
      "8        8   75519\n",
      "9        4   47201\n",
      "10       6   57586\n",
      "11       1   56375\n",
      "12       5   56782\n",
      "13       3   73283\n",
      "14       5   63304\n",
      "15       4   67127\n",
      "16       8   67366\n",
      "17       5   59018\n",
      "18       3   57475\n",
      "19       8   45832\n",
      "20       7   78874\n",
      "21       1   41107\n",
      "22       4   66510\n",
      "23       1   71488\n",
      "24       2   46448\n",
      "25       5   67577\n",
      "26       5   47181\n",
      "27       7   42001\n",
      "28       8   45959\n",
      "29       5   72187\n",
      "30       7   43571\n",
      "31       5   41265\n",
      "32       8   79332\n",
      "33       7   73609\n",
      "34       4   65898\n",
      "35       6   75693\n",
      "36       8   51856\n",
      "37       8   58460\n",
      "38       4   47428\n",
      "39       8   79528\n",
      "\n",
      "Min Max Normalized \n",
      "      weight    height\n",
      "0   0.285714  0.330158\n",
      "1   1.000000  0.939122\n",
      "2   0.000000  0.251581\n",
      "3   0.142857  0.262747\n",
      "4   0.714286  0.052992\n",
      "5   1.000000  0.035241\n",
      "6   0.714286  0.200073\n",
      "7   0.857143  0.841727\n",
      "8   1.000000  0.895656\n",
      "9   0.428571  0.158611\n",
      "10  0.714286  0.428906\n",
      "11  0.000000  0.397387\n",
      "12  0.571429  0.407980\n",
      "13  0.285714  0.837459\n",
      "14  0.571429  0.577731\n",
      "15  0.428571  0.677234\n",
      "16  1.000000  0.683454\n",
      "17  0.571429  0.466177\n",
      "18  0.285714  0.426017\n",
      "19  1.000000  0.122980\n",
      "20  0.857143  0.982978\n",
      "21  0.000000  0.000000\n",
      "22  0.428571  0.661175\n",
      "23  0.000000  0.790739\n",
      "24  0.142857  0.139013\n",
      "25  0.571429  0.688946\n",
      "26  0.571429  0.158091\n",
      "27  0.857143  0.023269\n",
      "28  1.000000  0.126285\n",
      "29  0.571429  0.808933\n",
      "30  0.857143  0.064132\n",
      "31  0.571429  0.004112\n",
      "32  1.000000  0.994899\n",
      "33  0.857143  0.845944\n",
      "34  0.428571  0.645246\n",
      "35  0.714286  0.900185\n",
      "36  1.000000  0.279769\n",
      "37  1.000000  0.451654\n",
      "38  0.428571  0.164519\n",
      "39  1.000000  1.000000\n",
      "\n",
      "Z Score \n",
      "      weight    height\n",
      "0  -0.980460 -0.416012\n",
      "1   1.174397  1.420824\n",
      "2  -1.842403 -0.653026\n",
      "3  -1.411432 -0.619346\n",
      "4   0.312454 -1.252037\n",
      "5   1.174397 -1.305579\n",
      "6   0.312454 -0.808392\n",
      "7   0.743426  1.127049\n",
      "8   1.174397  1.289717\n",
      "9  -0.549489 -0.933454\n",
      "10  0.312454 -0.118156\n",
      "11 -1.842403 -0.213228\n",
      "12 -0.118517 -0.181275\n",
      "13 -0.980460  1.114174\n",
      "14 -0.118517  0.330749\n",
      "15 -0.549489  0.630883\n",
      "16  1.174397  0.649646\n",
      "17 -0.118517 -0.005733\n",
      "18 -0.980460 -0.126870\n",
      "19  1.174397 -1.040931\n",
      "20  0.743426  1.553109\n",
      "21 -1.842403 -1.411878\n",
      "22 -0.549489  0.582444\n",
      "23 -1.842403  0.973254\n",
      "24 -1.411432 -0.992570\n",
      "25 -0.118517  0.666211\n",
      "26 -0.118517 -0.935024\n",
      "27  0.743426 -1.341692\n",
      "28  1.174397 -1.030960\n",
      "29 -0.118517  1.028130\n",
      "30  0.743426 -1.218436\n",
      "31 -0.118517 -1.399474\n",
      "32  1.174397  1.589065\n",
      "33  0.743426  1.139768\n",
      "34 -0.549489  0.534397\n",
      "35  0.312454  1.303377\n",
      "36  1.174397 -0.568003\n",
      "37  1.174397 -0.049540\n",
      "38 -0.549489 -0.915633\n",
      "39  1.174397  1.604453\n"
     ]
    }
   ],
   "source": [
    "def min_max_scaling(df):\n",
    "    \n",
    "    df_norm = df.copy()\n",
    "    \n",
    "    for column in df_norm.columns:\n",
    "        df_norm[column] = (df_norm[column] - df_norm[column].min()) / (df_norm[column].max() - df_norm[column].min())\n",
    "        \n",
    "    return df_norm\n",
    "\n",
    "def z_score(df):\n",
    "    df_std = df.copy()\n",
    "    for column in df_std.columns:\n",
    "        df_std[column] = (df_std[column] - df_std[column].mean()) / df_std[column].std()\n",
    "        \n",
    "    return df_std\n",
    "data=pd.DataFrame({\"weight\":np.random.randint(1,10,40),\"height\":np.random.randint(40000,80000,40)})\n",
    "print(data)\n",
    "data_normalized = min_max_scaling(data)\n",
    "print(\"\\nMin Max Normalized \")\n",
    "print(data_normalized)\n",
    "data_z_score=z_score(data)\n",
    "print(\"\\nZ Score \")\n",
    "print(data_z_score)\n",
    "\n",
    "\n"
   ]
  },
  {
   "cell_type": "code",
   "execution_count": null,
   "metadata": {},
   "outputs": [],
   "source": []
  }
 ],
 "metadata": {
  "kernelspec": {
   "display_name": "Python 3 (ipykernel)",
   "language": "python",
   "name": "python3"
  },
  "language_info": {
   "codemirror_mode": {
    "name": "ipython",
    "version": 3
   },
   "file_extension": ".py",
   "mimetype": "text/x-python",
   "name": "python",
   "nbconvert_exporter": "python",
   "pygments_lexer": "ipython3",
   "version": "3.9.0"
  }
 },
 "nbformat": 4,
 "nbformat_minor": 2
}
